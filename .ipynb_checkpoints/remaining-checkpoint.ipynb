{
 "cells": [
  {
   "cell_type": "code",
   "execution_count": 7,
   "metadata": {},
   "outputs": [
    {
     "name": "stdout",
     "output_type": "stream",
     "text": [
      "specializations_deep_learning\n",
      "specialization_deep_learning_intro\n",
      "perceptron_models\n",
      "supervised_neural_nets\n",
      "unsupervised_neural_nets\n",
      "challenge_make_a_neural_network\n",
      "tensor_flow_and_keras\n",
      "first_tensor_flow_model\n",
      "first_keras_model\n",
      "challenge_specialization_deep_learning\n",
      "specializations_biostatistics\n",
      "specialization_biostatistics_intro\n",
      "what_is_a_biostat\n",
      "meta_analysis\n",
      "survival_analysis\n",
      "specializations_big_data_and_spark\n"
     ]
    },
    {
     "ename": "FileNotFoundError",
     "evalue": "[Errno 2] No such file or directory: '/Users/benjaminwhite/sites/Thinkful/curricula/data-science-bootcamp/modules/specializations_big_data_and_spark.yaml'",
     "output_type": "error",
     "traceback": [
      "\u001b[0;31m---------------------------------------------------------------------------\u001b[0m",
      "\u001b[0;31mFileNotFoundError\u001b[0m                         Traceback (most recent call last)",
      "\u001b[0;32m<ipython-input-7-68853e42b067>\u001b[0m in \u001b[0;36m<module>\u001b[0;34m\u001b[0m\n\u001b[1;32m     44\u001b[0m     \u001b[0mprint\u001b[0m\u001b[0;34m(\u001b[0m\u001b[0mmodule\u001b[0m\u001b[0;34m)\u001b[0m\u001b[0;34m\u001b[0m\u001b[0m\n\u001b[1;32m     45\u001b[0m     \u001b[0mmodule_path\u001b[0m \u001b[0;34m=\u001b[0m \u001b[0mos\u001b[0m\u001b[0;34m.\u001b[0m\u001b[0mpath\u001b[0m\u001b[0;34m.\u001b[0m\u001b[0mjoin\u001b[0m\u001b[0;34m(\u001b[0m\u001b[0mmodules_dir\u001b[0m\u001b[0;34m,\u001b[0m \u001b[0;34m'{}.yaml'\u001b[0m\u001b[0;34m.\u001b[0m\u001b[0mformat\u001b[0m\u001b[0;34m(\u001b[0m\u001b[0mmodule\u001b[0m\u001b[0;34m)\u001b[0m\u001b[0;34m)\u001b[0m\u001b[0;34m\u001b[0m\u001b[0m\n\u001b[0;32m---> 46\u001b[0;31m     \u001b[0;32mwith\u001b[0m \u001b[0mopen\u001b[0m\u001b[0;34m(\u001b[0m\u001b[0mmodule_path\u001b[0m\u001b[0;34m)\u001b[0m \u001b[0;32mas\u001b[0m \u001b[0mf\u001b[0m\u001b[0;34m:\u001b[0m\u001b[0;34m\u001b[0m\u001b[0m\n\u001b[0m\u001b[1;32m     47\u001b[0m         \u001b[0mdata\u001b[0m \u001b[0;34m=\u001b[0m \u001b[0myaml\u001b[0m\u001b[0;34m.\u001b[0m\u001b[0mload\u001b[0m\u001b[0;34m(\u001b[0m\u001b[0mf\u001b[0m\u001b[0;34m)\u001b[0m\u001b[0;34m\u001b[0m\u001b[0m\n\u001b[1;32m     48\u001b[0m         \u001b[0;32mfor\u001b[0m \u001b[0mcheckpoint\u001b[0m \u001b[0;32min\u001b[0m \u001b[0mdata\u001b[0m\u001b[0;34m[\u001b[0m\u001b[0;34m'checkpoints'\u001b[0m\u001b[0;34m]\u001b[0m\u001b[0;34m:\u001b[0m\u001b[0;34m\u001b[0m\u001b[0m\n",
      "\u001b[0;31mFileNotFoundError\u001b[0m: [Errno 2] No such file or directory: '/Users/benjaminwhite/sites/Thinkful/curricula/data-science-bootcamp/modules/specializations_big_data_and_spark.yaml'"
     ]
    }
   ],
   "source": [
    "import os\n",
    "\n",
    "import yaml\n",
    "\n",
    "\n",
    "remaining_modules = [\n",
    "#     'supervised_learning_model_prep',\n",
    "#     'supervised_learning_solving_classification_problems',\n",
    "#     'supervised_learning_solving_regression_problems',\n",
    "#     'supervised_learning_similarity_models',\n",
    "#     'supervised_learning_random_forest_models',\n",
    "#     'supervised_learning_advanced_regression',\n",
    "#     'supervised_learning_support_vector_machines',\n",
    "#     'supervised_learning_boosting_models',\n",
    "#     'capstone_supervised_learning',\n",
    "#     'careers_professional_branding',\n",
    "#     'unsupervised_learning',\n",
    "#     'capstone_unsupervised_learning',\n",
    "#     'other_topics',\n",
    "#     'specializations_time_series_analysis',\n",
    "#     'specializations_network_analysis',\n",
    "#     'specializations_economics',\n",
    "#     'specializations_nlp',\n",
    "#     'specializations_social_sciences',\n",
    "#     'specializations_deep_learning',\n",
    "#     'specializations_biostatistics',\n",
    "    'specializations_big_data_spark',\n",
    "    'capstone_final_project'\n",
    "]\n",
    "\n",
    "base_dir = '/Users/benjaminwhite/sites/Thinkful/curricula/data-science-bootcamp'\n",
    "modules_dir = os.path.join(base_dir, 'modules')\n",
    "library_dir = os.path.join(base_dir, 'library')\n",
    "\n",
    "checkpoint_template = \"\"\"---\n",
    "title: coming soon\n",
    "time: 5\n",
    "---\n",
    "\n",
    "coming soon...\n",
    "\"\"\"\n",
    "\n",
    "for module in remaining_modules:\n",
    "    print(module)\n",
    "    module_path = os.path.join(modules_dir, '{}.yaml'.format(module))\n",
    "    with open(module_path) as f:\n",
    "        data = yaml.load(f)\n",
    "        for checkpoint in data['checkpoints']:\n",
    "            print(checkpoint)\n",
    "            checkpoint_dir = os.path.join(library_dir, checkpoint)\n",
    "            if not os.path.exists(checkpoint_dir):\n",
    "                os.makedirs(checkpoint_dir)\n",
    "            with open(os.path.join(checkpoint_dir, 'content.md'), 'w+') as f:\n",
    "                f.write(checkpoint_template)\n",
    "        \n",
    "            \n",
    "            \n",
    "    \n"
   ]
  },
  {
   "cell_type": "code",
   "execution_count": null,
   "metadata": {},
   "outputs": [],
   "source": []
  }
 ],
 "metadata": {
  "kernelspec": {
   "display_name": "Python 3",
   "language": "python",
   "name": "python3"
  },
  "language_info": {
   "codemirror_mode": {
    "name": "ipython",
    "version": 3
   },
   "file_extension": ".py",
   "mimetype": "text/x-python",
   "name": "python",
   "nbconvert_exporter": "python",
   "pygments_lexer": "ipython3",
   "version": "3.7.0"
  }
 },
 "nbformat": 4,
 "nbformat_minor": 2
}
