{
 "cells": [
  {
   "cell_type": "code",
   "execution_count": 1,
   "metadata": {
    "collapsed": true
   },
   "outputs": [],
   "source": [
    "import numpy as np\n",
    "import pandas as pd\n",
    "import matplotlib.pyplot as plt\n",
    "import seaborn as sns\n",
    "import re\n",
    "import string\n",
    "%matplotlib inline"
   ]
  },
  {
   "cell_type": "code",
   "execution_count": 2,
   "metadata": {
    "code_folding": [],
    "collapsed": false,
    "deletable": true,
    "editable": true,
    "run_control": {
     "frozen": false,
     "read_only": false
    },
    "scrolled": false
   },
   "outputs": [
    {
     "ename": "FileNotFoundError",
     "evalue": "File b'C:/Users/Bethany/Documents/Home/Thinkful/Data cleaning example/WELLCOME_APCspend2013_forThinkful.csv' does not exist",
     "output_type": "error",
     "traceback": [
      "\u001b[0;31m---------------------------------------------------------------------------\u001b[0m",
      "\u001b[0;31mFileNotFoundError\u001b[0m                         Traceback (most recent call last)",
      "\u001b[0;32m<ipython-input-2-ae86104f2156>\u001b[0m in \u001b[0;36m<module>\u001b[0;34m()\u001b[0m\n\u001b[1;32m     14\u001b[0m \u001b[0;34m\u001b[0m\u001b[0m\n\u001b[1;32m     15\u001b[0m \u001b[0;34m\u001b[0m\u001b[0m\n\u001b[0;32m---> 16\u001b[0;31m \u001b[0mmasterDF\u001b[0m \u001b[0;34m=\u001b[0m \u001b[0mpd\u001b[0m\u001b[0;34m.\u001b[0m\u001b[0mread_csv\u001b[0m\u001b[0;34m(\u001b[0m\u001b[0;34m'C:/Users/Bethany/Documents/Home/Thinkful/Data cleaning example/WELLCOME_APCspend2013_forThinkful.csv'\u001b[0m\u001b[0;34m,\u001b[0m\u001b[0mencoding\u001b[0m \u001b[0;34m=\u001b[0m \u001b[0;34m'ISO-8859-1'\u001b[0m\u001b[0;34m)\u001b[0m\u001b[0;34m\u001b[0m\u001b[0m\n\u001b[0m\u001b[1;32m     17\u001b[0m \u001b[0;34m\u001b[0m\u001b[0m\n\u001b[1;32m     18\u001b[0m \u001b[0;31m#Renaming the columns because their original names are hideously unworkable.\u001b[0m\u001b[0;34m\u001b[0m\u001b[0;34m\u001b[0m\u001b[0m\n",
      "\u001b[0;32m/Library/Frameworks/Python.framework/Versions/3.5/lib/python3.5/site-packages/pandas/io/parsers.py\u001b[0m in \u001b[0;36mparser_f\u001b[0;34m(filepath_or_buffer, sep, delimiter, header, names, index_col, usecols, squeeze, prefix, mangle_dupe_cols, dtype, engine, converters, true_values, false_values, skipinitialspace, skiprows, nrows, na_values, keep_default_na, na_filter, verbose, skip_blank_lines, parse_dates, infer_datetime_format, keep_date_col, date_parser, dayfirst, iterator, chunksize, compression, thousands, decimal, lineterminator, quotechar, quoting, escapechar, comment, encoding, dialect, tupleize_cols, error_bad_lines, warn_bad_lines, skipfooter, skip_footer, doublequote, delim_whitespace, as_recarray, compact_ints, use_unsigned, low_memory, buffer_lines, memory_map, float_precision)\u001b[0m\n\u001b[1;32m    644\u001b[0m                     skip_blank_lines=skip_blank_lines)\n\u001b[1;32m    645\u001b[0m \u001b[0;34m\u001b[0m\u001b[0m\n\u001b[0;32m--> 646\u001b[0;31m         \u001b[0;32mreturn\u001b[0m \u001b[0m_read\u001b[0m\u001b[0;34m(\u001b[0m\u001b[0mfilepath_or_buffer\u001b[0m\u001b[0;34m,\u001b[0m \u001b[0mkwds\u001b[0m\u001b[0;34m)\u001b[0m\u001b[0;34m\u001b[0m\u001b[0m\n\u001b[0m\u001b[1;32m    647\u001b[0m \u001b[0;34m\u001b[0m\u001b[0m\n\u001b[1;32m    648\u001b[0m     \u001b[0mparser_f\u001b[0m\u001b[0;34m.\u001b[0m\u001b[0m__name__\u001b[0m \u001b[0;34m=\u001b[0m \u001b[0mname\u001b[0m\u001b[0;34m\u001b[0m\u001b[0m\n",
      "\u001b[0;32m/Library/Frameworks/Python.framework/Versions/3.5/lib/python3.5/site-packages/pandas/io/parsers.py\u001b[0m in \u001b[0;36m_read\u001b[0;34m(filepath_or_buffer, kwds)\u001b[0m\n\u001b[1;32m    387\u001b[0m \u001b[0;34m\u001b[0m\u001b[0m\n\u001b[1;32m    388\u001b[0m     \u001b[0;31m# Create the parser.\u001b[0m\u001b[0;34m\u001b[0m\u001b[0;34m\u001b[0m\u001b[0m\n\u001b[0;32m--> 389\u001b[0;31m     \u001b[0mparser\u001b[0m \u001b[0;34m=\u001b[0m \u001b[0mTextFileReader\u001b[0m\u001b[0;34m(\u001b[0m\u001b[0mfilepath_or_buffer\u001b[0m\u001b[0;34m,\u001b[0m \u001b[0;34m**\u001b[0m\u001b[0mkwds\u001b[0m\u001b[0;34m)\u001b[0m\u001b[0;34m\u001b[0m\u001b[0m\n\u001b[0m\u001b[1;32m    390\u001b[0m \u001b[0;34m\u001b[0m\u001b[0m\n\u001b[1;32m    391\u001b[0m     \u001b[0;32mif\u001b[0m \u001b[0;34m(\u001b[0m\u001b[0mnrows\u001b[0m \u001b[0;32mis\u001b[0m \u001b[0;32mnot\u001b[0m \u001b[0;32mNone\u001b[0m\u001b[0;34m)\u001b[0m \u001b[0;32mand\u001b[0m \u001b[0;34m(\u001b[0m\u001b[0mchunksize\u001b[0m \u001b[0;32mis\u001b[0m \u001b[0;32mnot\u001b[0m \u001b[0;32mNone\u001b[0m\u001b[0;34m)\u001b[0m\u001b[0;34m:\u001b[0m\u001b[0;34m\u001b[0m\u001b[0m\n",
      "\u001b[0;32m/Library/Frameworks/Python.framework/Versions/3.5/lib/python3.5/site-packages/pandas/io/parsers.py\u001b[0m in \u001b[0;36m__init__\u001b[0;34m(self, f, engine, **kwds)\u001b[0m\n\u001b[1;32m    728\u001b[0m             \u001b[0mself\u001b[0m\u001b[0;34m.\u001b[0m\u001b[0moptions\u001b[0m\u001b[0;34m[\u001b[0m\u001b[0;34m'has_index_names'\u001b[0m\u001b[0;34m]\u001b[0m \u001b[0;34m=\u001b[0m \u001b[0mkwds\u001b[0m\u001b[0;34m[\u001b[0m\u001b[0;34m'has_index_names'\u001b[0m\u001b[0;34m]\u001b[0m\u001b[0;34m\u001b[0m\u001b[0m\n\u001b[1;32m    729\u001b[0m \u001b[0;34m\u001b[0m\u001b[0m\n\u001b[0;32m--> 730\u001b[0;31m         \u001b[0mself\u001b[0m\u001b[0;34m.\u001b[0m\u001b[0m_make_engine\u001b[0m\u001b[0;34m(\u001b[0m\u001b[0mself\u001b[0m\u001b[0;34m.\u001b[0m\u001b[0mengine\u001b[0m\u001b[0;34m)\u001b[0m\u001b[0;34m\u001b[0m\u001b[0m\n\u001b[0m\u001b[1;32m    731\u001b[0m \u001b[0;34m\u001b[0m\u001b[0m\n\u001b[1;32m    732\u001b[0m     \u001b[0;32mdef\u001b[0m \u001b[0mclose\u001b[0m\u001b[0;34m(\u001b[0m\u001b[0mself\u001b[0m\u001b[0;34m)\u001b[0m\u001b[0;34m:\u001b[0m\u001b[0;34m\u001b[0m\u001b[0m\n",
      "\u001b[0;32m/Library/Frameworks/Python.framework/Versions/3.5/lib/python3.5/site-packages/pandas/io/parsers.py\u001b[0m in \u001b[0;36m_make_engine\u001b[0;34m(self, engine)\u001b[0m\n\u001b[1;32m    921\u001b[0m     \u001b[0;32mdef\u001b[0m \u001b[0m_make_engine\u001b[0m\u001b[0;34m(\u001b[0m\u001b[0mself\u001b[0m\u001b[0;34m,\u001b[0m \u001b[0mengine\u001b[0m\u001b[0;34m=\u001b[0m\u001b[0;34m'c'\u001b[0m\u001b[0;34m)\u001b[0m\u001b[0;34m:\u001b[0m\u001b[0;34m\u001b[0m\u001b[0m\n\u001b[1;32m    922\u001b[0m         \u001b[0;32mif\u001b[0m \u001b[0mengine\u001b[0m \u001b[0;34m==\u001b[0m \u001b[0;34m'c'\u001b[0m\u001b[0;34m:\u001b[0m\u001b[0;34m\u001b[0m\u001b[0m\n\u001b[0;32m--> 923\u001b[0;31m             \u001b[0mself\u001b[0m\u001b[0;34m.\u001b[0m\u001b[0m_engine\u001b[0m \u001b[0;34m=\u001b[0m \u001b[0mCParserWrapper\u001b[0m\u001b[0;34m(\u001b[0m\u001b[0mself\u001b[0m\u001b[0;34m.\u001b[0m\u001b[0mf\u001b[0m\u001b[0;34m,\u001b[0m \u001b[0;34m**\u001b[0m\u001b[0mself\u001b[0m\u001b[0;34m.\u001b[0m\u001b[0moptions\u001b[0m\u001b[0;34m)\u001b[0m\u001b[0;34m\u001b[0m\u001b[0m\n\u001b[0m\u001b[1;32m    924\u001b[0m         \u001b[0;32melse\u001b[0m\u001b[0;34m:\u001b[0m\u001b[0;34m\u001b[0m\u001b[0m\n\u001b[1;32m    925\u001b[0m             \u001b[0;32mif\u001b[0m \u001b[0mengine\u001b[0m \u001b[0;34m==\u001b[0m \u001b[0;34m'python'\u001b[0m\u001b[0;34m:\u001b[0m\u001b[0;34m\u001b[0m\u001b[0m\n",
      "\u001b[0;32m/Library/Frameworks/Python.framework/Versions/3.5/lib/python3.5/site-packages/pandas/io/parsers.py\u001b[0m in \u001b[0;36m__init__\u001b[0;34m(self, src, **kwds)\u001b[0m\n\u001b[1;32m   1388\u001b[0m         \u001b[0mkwds\u001b[0m\u001b[0;34m[\u001b[0m\u001b[0;34m'allow_leading_cols'\u001b[0m\u001b[0;34m]\u001b[0m \u001b[0;34m=\u001b[0m \u001b[0mself\u001b[0m\u001b[0;34m.\u001b[0m\u001b[0mindex_col\u001b[0m \u001b[0;32mis\u001b[0m \u001b[0;32mnot\u001b[0m \u001b[0;32mFalse\u001b[0m\u001b[0;34m\u001b[0m\u001b[0m\n\u001b[1;32m   1389\u001b[0m \u001b[0;34m\u001b[0m\u001b[0m\n\u001b[0;32m-> 1390\u001b[0;31m         \u001b[0mself\u001b[0m\u001b[0;34m.\u001b[0m\u001b[0m_reader\u001b[0m \u001b[0;34m=\u001b[0m \u001b[0m_parser\u001b[0m\u001b[0;34m.\u001b[0m\u001b[0mTextReader\u001b[0m\u001b[0;34m(\u001b[0m\u001b[0msrc\u001b[0m\u001b[0;34m,\u001b[0m \u001b[0;34m**\u001b[0m\u001b[0mkwds\u001b[0m\u001b[0;34m)\u001b[0m\u001b[0;34m\u001b[0m\u001b[0m\n\u001b[0m\u001b[1;32m   1391\u001b[0m \u001b[0;34m\u001b[0m\u001b[0m\n\u001b[1;32m   1392\u001b[0m         \u001b[0;31m# XXX\u001b[0m\u001b[0;34m\u001b[0m\u001b[0;34m\u001b[0m\u001b[0m\n",
      "\u001b[0;32mpandas/parser.pyx\u001b[0m in \u001b[0;36mpandas.parser.TextReader.__cinit__ (pandas/parser.c:4184)\u001b[0;34m()\u001b[0m\n",
      "\u001b[0;32mpandas/parser.pyx\u001b[0m in \u001b[0;36mpandas.parser.TextReader._setup_parser_source (pandas/parser.c:8449)\u001b[0;34m()\u001b[0m\n",
      "\u001b[0;31mFileNotFoundError\u001b[0m: File b'C:/Users/Bethany/Documents/Home/Thinkful/Data cleaning example/WELLCOME_APCspend2013_forThinkful.csv' does not exist"
     ]
    }
   ],
   "source": [
    "pd.options.display.float_format = '{:.2f}'.format\n",
    "\n",
    "# A function to calculate and pull together the information for the challenge.\n",
    "def summarycreator(df, varname, colname):\n",
    "    # The names of the first 7 most commonly bought journals.\n",
    "    big7journals = df[colname].value_counts().reset_index().iloc[0:7,0]\n",
    "    list = df[df[colname].isin(big7journals)]       \\\n",
    "                         .groupby(colname)[varname] \\\n",
    "                         .agg({\n",
    "                             'meancost' : np.mean,\n",
    "                             'mediancost' : np.median,\n",
    "                             'stdcost' : np.std,\n",
    "                             'count_articles' : len,\n",
    "                         })\n",
    "    return(list)\n",
    "\n",
    "\n",
    "masterDF = pd.read_csv('C:/Users/Bethany/Documents/Home/Thinkful/Data cleaning example/WELLCOME_APCspend2013_forThinkful.csv',encoding = 'ISO-8859-1')\n",
    "\n",
    "# Renaming the columns because their original names are hideously unworkable.\n",
    "masterDF.columns = ['ID', 'Publisher', 'Journal', 'Article', 'Cost']"
   ]
  },
  {
   "cell_type": "markdown",
   "metadata": {},
   "source": [
    "Let's clean up the cost variable"
   ]
  },
  {
   "cell_type": "code",
   "execution_count": null,
   "metadata": {
    "collapsed": true
   },
   "outputs": [],
   "source": [
    "# Start with a function to cope with the fact that some values do not have a\n",
    "# currency indicator.\n",
    "def extractnum(item):\n",
    "    value = None\n",
    "    item = re.findall(r'[£\\$€]', str(item))\n",
    "    if item:\n",
    "        value = item[0]\n",
    "    return value\n",
    "\n",
    "\n",
    "# Separating the Cost variable into a currency indicator and two float value\n",
    "# variables, one to keep the raw value and another to hold the processed.\n",
    "masterDF['Currency'] = masterDF['Cost'].apply(extractnum)\n",
    "masterDF['CostNum'] = masterDF['Cost'].apply(lambda x: float(str(x).strip(r'[£\\$€]')))\n",
    "masterDF['CostRaw'] = masterDF['Cost'].apply(lambda x: float(str(x).strip(r'[£\\$€]')))\n",
    "\n",
    "#print(masterDF.head())\n",
    "#Looking at the raw uncleaned data.  Clearly there are some things to fix.\n",
    "#masterDF['CostNum'].hist()\n",
    "#plt.show()\n",
    "#print(masterDF.describe())\n",
    "\n",
    "\n",
    "# Setting '999999' values to 'missing'.\n",
    "masterDF.loc[masterDF['CostNum'] == 999999, 'CostNum'] = None\n",
    "\n",
    "# Fixing decimal point shift for max outliers assuming a decimal point is\n",
    "# erroneously missing.\n",
    "masterDF.loc[masterDF['CostNum'] > 8000, 'CostNum'] = masterDF.loc[masterDF['CostNum'] > 8000, 'CostNum'] / 100\n",
    "\n",
    "# Setting as NA values of 0, because all open access journals charge something.\n",
    "masterDF.loc[masterDF['CostNum'] == 0, 'CostNum'] = None\n",
    "\n",
    "# Fixing decimal point shift for min outliers – assuming a decimal point is\n",
    "# erroneously misplaced.\n",
    "masterDF.loc[masterDF['CostNum'] < 80, 'CostNum'] = masterDF.loc[masterDF['CostNum'] < 80, 'CostNum'] * 100\n",
    "\n",
    "# Converting dollar amounts to pounds using the 2.13.17 conversion rate of 0.80.\n",
    "masterDF.loc[masterDF['Currency'] == '$', 'CostNum'] = masterDF.loc[masterDF['Currency'] == '$', 'CostNum'] * 0.8\n",
    "\n",
    "\n",
    "\n",
    "#Looking again.  Much nicer.\n",
    "#print(masterDF.describe())\n",
    "\n",
    "#masterDF['CostNum'].hist()\n",
    "#plt.show()"
   ]
  },
  {
   "cell_type": "markdown",
   "metadata": {},
   "source": [
    "On to tidying up journal names."
   ]
  },
  {
   "cell_type": "code",
   "execution_count": null,
   "metadata": {
    "collapsed": true,
    "deletable": true,
    "editable": true,
    "run_control": {
     "frozen": false,
     "read_only": false
    }
   },
   "outputs": [],
   "source": [
    "# Creating a list of journal names in lowercase, to identify entries with the\n",
    "# same words but different caps values.\n",
    "journal_counts = masterDF['Journal'].apply(lambda x: str(x).lower()) \\\n",
    "                                    .value_counts()                  \\\n",
    "                                    .reset_index()                   \\\n",
    "                                    .sort_values(by='index')         \\\n",
    "\n",
    "# When the same journal is named inconsistently, we will assign it a\n",
    "# 'TrueName.'However, we assume most journals are named correctly.\n",
    "journal_counts['TrueName'] = journal_counts['index']\n",
    "uniquejournals_raw = len(journal_counts['TrueName'].unique())\n",
    "\n",
    "# Begin by replacing & with 'and'.\n",
    "journal_counts['TrueName'] = journal_counts['TrueName'].apply(lambda x: x.replace(' & ', ' and '))\n",
    "\n",
    "# Now remove all punctuation as visual inspection suggests it is used inconsistently.\n",
    "translator = str.maketrans('', '', string.punctuation)\n",
    "journal_counts['TrueName'] = journal_counts['TrueName'].apply(lambda x: x.translate(translator))\n",
    "\n",
    "# Expand common abbreviations\n",
    "journal_counts['TrueName'] = journal_counts['TrueName'].apply(lambda x: x.replace('j ', 'journal '))\n",
    "journal_counts['TrueName'] = journal_counts['TrueName'].apply(lambda x: re.sub('^am ', 'american ',x))\n",
    "journal_counts['TrueName'] = journal_counts['TrueName'].apply(lambda x: x.replace('bmj', 'british medical journal'))\n",
    "journal_counts['TrueName'] = journal_counts['TrueName'].apply(lambda x: x.replace('int ', 'international '))\n",
    "journal_counts['TrueName'] = journal_counts['TrueName'].apply(lambda x: x.replace('eur ', 'european '))\n",
    "journal_counts['TrueName'] = journal_counts['TrueName'].apply(lambda x: x.replace('jnl', 'journal'))\n",
    "journal_counts['TrueName'] = journal_counts['TrueName'].apply(lambda x: x.replace(' 1', ' one'))\n",
    "\n",
    "# Fixing one specific thing I noticed.\n",
    "journal_counts['TrueName'] = journal_counts['TrueName'].apply(lambda x: x.replace('plosone', 'plos one'))\n",
    "\n",
    "# Remove sometimes-omitted words 'of' and 'the'.\n",
    "journal_counts['TrueName'] = journal_counts['TrueName'].apply(lambda x: x.replace('of ',''))\n",
    "journal_counts['TrueName'] = journal_counts['TrueName'].apply(lambda x: x.replace('the ',''))\n",
    "\n",
    "# Cleaning up extra whitespaces.\n",
    "journal_counts['TrueName'] = journal_counts['TrueName'].apply(lambda x: re.sub(\"\\s\\s+\", \" \", x))\n",
    "journal_counts['TrueName'] = journal_counts['TrueName'].apply(lambda x: x.strip())\n",
    "\n",
    "# Creating a dictionary mapping the old journal values to the new ones.\n",
    "journal_dict = pd.Series(\n",
    "    journal_counts['TrueName'].values,\n",
    "    index=journal_counts['index']\n",
    ").to_dict()\n",
    "\n",
    "# Applying the dictionary to the data.\n",
    "masterDF['JournalClean'] = masterDF['Journal'].apply(lambda x: str(x).lower()) \\\n",
    "                                              .map(journal_dict)\n",
    "\n",
    "uniquejournals_clean = len(journal_counts['TrueName'].unique())"
   ]
  },
  {
   "cell_type": "markdown",
   "metadata": {
    "deletable": true,
    "editable": true,
    "run_control": {
     "frozen": false,
     "read_only": false
    }
   },
   "source": [
    "### Number of unique journals before and after cleaning"
   ]
  },
  {
   "cell_type": "code",
   "execution_count": null,
   "metadata": {
    "collapsed": false,
    "deletable": true,
    "editable": true,
    "run_control": {
     "frozen": false,
     "read_only": false
    }
   },
   "outputs": [],
   "source": [
    "print(uniquejournals_raw)\n",
    "print(uniquejournals_clean)"
   ]
  },
  {
   "cell_type": "markdown",
   "metadata": {
    "deletable": true,
    "editable": true,
    "run_control": {
     "frozen": false,
     "read_only": false
    }
   },
   "source": [
    "## Raw uncleaned data"
   ]
  },
  {
   "cell_type": "code",
   "execution_count": null,
   "metadata": {
    "collapsed": false,
    "deletable": true,
    "editable": true,
    "run_control": {
     "frozen": false,
     "read_only": false
    }
   },
   "outputs": [],
   "source": [
    "print(summarycreator(masterDF,'CostRaw','Journal'))"
   ]
  },
  {
   "cell_type": "markdown",
   "metadata": {
    "deletable": true,
    "editable": true,
    "run_control": {
     "frozen": false,
     "read_only": false
    }
   },
   "source": [
    "## Numeric variable cleaned"
   ]
  },
  {
   "cell_type": "code",
   "execution_count": null,
   "metadata": {
    "collapsed": false,
    "deletable": true,
    "editable": true,
    "run_control": {
     "frozen": false,
     "read_only": false
    }
   },
   "outputs": [],
   "source": [
    "print(summarycreator(masterDF,'CostNum','Journal'))"
   ]
  },
  {
   "cell_type": "markdown",
   "metadata": {
    "deletable": true,
    "editable": true,
    "run_control": {
     "frozen": false,
     "read_only": false
    }
   },
   "source": [
    "## Final version with numeric and string variables cleaned"
   ]
  },
  {
   "cell_type": "code",
   "execution_count": null,
   "metadata": {
    "collapsed": false,
    "deletable": true,
    "editable": true,
    "run_control": {
     "frozen": false,
     "read_only": false
    }
   },
   "outputs": [],
   "source": [
    "print(summarycreator(masterDF,'CostNum','JournalClean'))\n"
   ]
  },
  {
   "cell_type": "markdown",
   "metadata": {
    "collapsed": true,
    "deletable": true,
    "editable": true,
    "run_control": {
     "frozen": false,
     "read_only": false
    }
   },
   "source": [
    "Note that this is not meant to be the only possible acceptable cleaning procedure!  Some variance around these values is to be expected.  "
   ]
  }
 ],
 "metadata": {
  "hide_input": false,
  "kernelspec": {
   "display_name": "Python 3",
   "language": "python",
   "name": "python3"
  },
  "language_info": {
   "codemirror_mode": {
    "name": "ipython",
    "version": 3
   },
   "file_extension": ".py",
   "mimetype": "text/x-python",
   "name": "python",
   "nbconvert_exporter": "python",
   "pygments_lexer": "ipython3",
   "version": "3.5.2"
  },
  "toc": {
   "colors": {
    "hover_highlight": "#DAA520",
    "running_highlight": "#FF0000",
    "selected_highlight": "#FFD700"
   },
   "moveMenuLeft": true,
   "nav_menu": {
    "height": "96px",
    "width": "252px"
   },
   "navigate_menu": true,
   "number_sections": true,
   "sideBar": true,
   "threshold": 4,
   "toc_cell": false,
   "toc_section_display": "block",
   "toc_window_display": false
  }
 },
 "nbformat": 4,
 "nbformat_minor": 0
}
