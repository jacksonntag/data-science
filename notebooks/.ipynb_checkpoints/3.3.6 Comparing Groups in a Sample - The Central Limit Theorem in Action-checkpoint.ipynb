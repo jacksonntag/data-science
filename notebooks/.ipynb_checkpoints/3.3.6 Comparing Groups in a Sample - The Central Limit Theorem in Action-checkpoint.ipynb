{
 "cells": [
  {
   "cell_type": "markdown",
   "metadata": {},
   "source": [
    "# Thinkful Data Science Prep course 3.3.6\n",
    "\n",
    "## Comparing Groups in a Sample: The Central Limit Theorem in Action"
   ]
  },
  {
   "cell_type": "markdown",
   "metadata": {},
   "source": [
    "For an example of the central limit theorem in action, we can compare the means of two samples, drawn from two populations.  To compare two means, we want to calculate the mean and standard deviation of each sample.  Then, we subtract one mean from the other, and look at the size of the difference in the context of the combined variance of the two samples.  The larger the difference is relative to the variance, the less likely the difference is to be due to random chance, and the more likely it is to reflect meaningful differences between the two populations.\n",
    "\n",
    "$$\\bar y = \\bar x_2- \\bar x_1$$\n",
    "\n",
    "To combine the variances, The squared standard deviations are divided by the sample size and summed, then we take the square root of the sum.  This is the standard error of the difference, representing the variance in the sample differences around the population difference.  \n",
    "\n",
    "$$se=\\sqrt{\\frac {s_1^2 } n_1 + \\frac {s_2^2 } n_2}$$\n",
    "\n",
    "The difference divided by the standard error is a ratio called the **t-value**.  T-values put the difference in context by telling us how large the difference is relative to the amount of variance, or noise, in the data.  In very noisy data, small differences are more likely to result from the noise rather than from real differences between the population means.\n",
    "\n",
    "$$t-value=\\frac{\\bar y}{se}$$\n",
    "\n",
    "Given a t-value, we can calculate the probability that a t-value at least this extreme would occur by chance, called a **p-value**.  This tells us how likely it is that we would get the sampling data we observe if the two population means were not, in fact, different from one another.\n",
    "The p-value runs between 0 (It is impossible to get a difference of this size or greater in the absence of a real population difference) and 1 (we will always get a difference of this size or greater in the absence of a real population difference).  The lower the p-value, the more confidently we can conclude that there is a meaningful difference between the means of the two groups in the population.\n",
    "\n",
    "Let’s spin up some population data and give this a try. We’ll make two variables to represent two different populations: one a binomially distributed variable with p of 0.2, n=10, and 10000 datapoints (`group1`), and another binomially distributed variable with p of 0.5, n=10, and 10000 datapoints (`group2`). The true population difference between the two populations is 0.3.\n"
   ]
  },
  {
   "cell_type": "code",
   "execution_count": 1,
   "metadata": {
    "collapsed": false
   },
   "outputs": [],
   "source": [
    "import numpy as np\n",
    "import pandas as pd\n",
    "import scipy\n",
    "import matplotlib.pyplot as plt\n",
    "%matplotlib inline"
   ]
  },
  {
   "cell_type": "code",
   "execution_count": 2,
   "metadata": {
    "collapsed": false
   },
   "outputs": [
    {
     "data": {
      "image/png": "[encoded data removed]",
      "text/plain": [
       "<matplotlib.figure.Figure at 0x1046454e0>"
      ]
     },
     "metadata": {},
     "output_type": "display_data"
    }
   ],
   "source": [
    "pop1 = np.random.binomial(10, 0.2, 10000)\n",
    "pop2 = np.random.binomial(10,0.5, 10000) \n",
    "\n",
    "# Let’s make histograms for the two groups. \n",
    "\n",
    "plt.hist(pop1, alpha=0.5, label='Population 1') \n",
    "plt.hist(pop2, alpha=0.5, label='Population 2') \n",
    "plt.legend(loc='upper right') \n",
    "plt.show()"
   ]
  },
  {
   "cell_type": "markdown",
   "metadata": {},
   "source": [
    "The populations are not normal. Next, take a sample of 100 from each population and plot them."
   ]
  },
  {
   "cell_type": "code",
   "execution_count": 3,
   "metadata": {
    "collapsed": false
   },
   "outputs": [
    {
     "data": {
      "image/png": "[encoded data removed]",
      "text/plain": [
       "<matplotlib.figure.Figure at 0x104645518>"
      ]
     },
     "metadata": {},
     "output_type": "display_data"
    }
   ],
   "source": [
    "sample1 = np.random.choice(pop1, 100, replace=True)\n",
    "sample2 = np.random.choice(pop2, 100, replace=True)\n",
    "\n",
    "plt.hist(sample1, alpha=0.5, label='sample 1') \n",
    "plt.hist(sample2, alpha=0.5, label='sample 2') \n",
    "plt.legend(loc='upper right') \n",
    "plt.show()"
   ]
  },
  {
   "cell_type": "markdown",
   "metadata": {},
   "source": [
    "Next, compute the means  and standard deviations for each group.  Note that the mean represents `n * p`: the probability of an event occurring (`p`) multiplied by the number of repetitions (`n`).  To get p for each sample, divide by `n`, which we set to 10 when generating the populations."
   ]
  },
  {
   "cell_type": "code",
   "execution_count": 4,
   "metadata": {
    "collapsed": false
   },
   "outputs": [
    {
     "name": "stdout",
     "output_type": "stream",
     "text": [
      "1.74\n",
      "5.23\n",
      "1.3162066707\n",
      "1.50236480257\n",
      "3.49\n"
     ]
    }
   ],
   "source": [
    "print(sample1.mean())\n",
    "print(sample2.mean())\n",
    "print(sample1.std())\n",
    "print(sample2.std())\n",
    "\n",
    "# Compute the difference between the two sample means.\n",
    "diff=sample2.mean( ) -sample1.mean()\n",
    "print(diff)"
   ]
  },
  {
   "cell_type": "markdown",
   "metadata": {},
   "source": [
    "Next, calculate the standard error of the sampling distribution of the difference of the means.  First, create an array with the size of each variable and another with the standard deviation of each variable.  In this case, the sizes are already known since you provided them earlier, but let’s calculate them anyway."
   ]
  },
  {
   "cell_type": "code",
   "execution_count": 5,
   "metadata": {
    "collapsed": false
   },
   "outputs": [
    {
     "name": "stdout",
     "output_type": "stream",
     "text": [
      "17.4729483144\n"
     ]
    }
   ],
   "source": [
    "size = np.array([len(sample1), len(sample2)])\n",
    "sd = np.array([sample1.std(), sample2.std()])\n",
    "\n",
    "# The squared standard deviations are divided by the sample size and summed, then we take\n",
    "# the square root of the sum. \n",
    "diff_se = sum(sd ** 2 / size) ** 0.5  \n",
    "\n",
    "#The difference between the means divided by the standard error: T-value.  \n",
    "print(diff/diff_se)"
   ]
  },
  {
   "cell_type": "markdown",
   "metadata": {},
   "source": [
    "Finally, we import the function `ttest_ind` from scipy.stats, which calculates the t-value for us (called “statistic”) and also provides the probability calculation (called “pvalue”).  The t-value we calculated and the t-value given by the function may differ slightly after the hundredth decimal place.  This is due to differences of rounding caused by our multiple-step approach to calculating the t-value.  "
   ]
  },
  {
   "cell_type": "code",
   "execution_count": 6,
   "metadata": {
    "collapsed": false
   },
   "outputs": [
    {
     "name": "stdout",
     "output_type": "stream",
     "text": [
      "Ttest_indResult(statistic=17.385364062031307, pvalue=1.7853698613972673e-41)\n"
     ]
    }
   ],
   "source": [
    "from scipy.stats import ttest_ind\n",
    "print(ttest_ind(sample2, sample1, equal_var=False))"
   ]
  },
  {
   "cell_type": "markdown",
   "metadata": {
    "collapsed": true
   },
   "source": [
    "The t-value scales the difference between the two groups by the amount of variance in the two samples.  High variability in samples can lead to groups with means that look very different, but when we look at the histogram we see that most of the values in the sample groups overlap.  The groups are so variable that the distribution of values is quite broad.  For example, Olympic races are split into men’s races and women’s races because men are, on average, faster than women.  However, looking at [the distribution of running speed in the New York marathon](http://www.warandgender.com/wggendif.htm), where women and men run together, it’s clear that running speed has a high degree of variability, and that the distributions for men and women overlap a great deal.  \n",
    "\n",
    "One way to interpret a t-value is as the number of standard errors worth of space separating the group means.  A t-value of 2 would indicate that the means are two standard errors apart.\n",
    "\n",
    "The p-value associated with a t-test indicates the likelihood of getting a difference this large or larger in the samples if the populations were not different.  The smaller the p-value, the more likely the difference we see in the samples meaningfully reflects the populations.  The p-value in the test you did above is really small, so we can be fairly confident that the difference in means we see is due to a real difference in the population and not due to variability in the samples."
   ]
  }
 ],
 "metadata": {
  "kernelspec": {
   "display_name": "Python 3",
   "language": "python",
   "name": "python3"
  },
  "language_info": {
   "codemirror_mode": {
    "name": "ipython",
    "version": 3
   },
   "file_extension": ".py",
   "mimetype": "text/x-python",
   "name": "python",
   "nbconvert_exporter": "python",
   "pygments_lexer": "ipython3",
   "version": "3.5.2"
  }
 },
 "nbformat": 4,
 "nbformat_minor": 2
}
