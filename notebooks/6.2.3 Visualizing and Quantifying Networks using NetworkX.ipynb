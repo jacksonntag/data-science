{
 "cells": [
  {
   "cell_type": "code",
   "execution_count": 1,
   "metadata": {
    "collapsed": true,
    "run_control": {
     "frozen": false,
     "read_only": false
    }
   },
   "outputs": [],
   "source": [
    "import numpy as np\n",
    "import pandas as pd\n",
    "import scipy\n",
    "import matplotlib.pyplot as plt\n",
    "%matplotlib inline"
   ]
  },
  {
   "cell_type": "markdown",
   "metadata": {
    "run_control": {
     "frozen": false,
     "read_only": false
    }
   },
   "source": [
    "# Making graphs in Python\n",
    "\n",
    "There are many different libraries for creating, visualizing, and analyzing graphs in Python.  We'll be using ´networkx´, which visualizes graphs using the matplotlib engine.  To start, let's re-create our directed graph from the last assignment:"
   ]
  },
  {
   "cell_type": "code",
   "execution_count": 2,
   "metadata": {
    "run_control": {
     "frozen": false,
     "read_only": false
    }
   },
   "outputs": [
    {
     "data": {
      "image/png": "[encoded data removed]",
      "text/plain": [
       "<matplotlib.figure.Figure at 0x7f1a20c214e0>"
      ]
     },
     "metadata": {},
     "output_type": "display_data"
    }
   ],
   "source": [
    "import networkx as nx\n",
    "\n",
    "#Creating a directed graph\n",
    "G = nx.DiGraph()\n",
    "#Adding nodes.  We could have added them all in one list using .add_nodes_from()\n",
    "G.add_node('You')\n",
    "G.add_node('Mom')\n",
    "G.add_node('Aunt Alice')\n",
    "G.add_node('Fiancee')\n",
    "\n",
    "#Adding edges.  You can also add them individually using .add_edge() \n",
    "G.add_edges_from([('You','Mom'),('You','Fiancee')])\n",
    "G.add_edges_from([('Mom','You'),('Mom','Aunt Alice')])\n",
    "G.add_edges_from([('Aunt Alice','Mom'),('Aunt Alice','You')])\n",
    "\n",
    "#Drawing the graph\n",
    "nx.draw_networkx(G,\n",
    "                 pos=nx.circular_layout(G), # Positions the nodes relative to each other\n",
    "                 node_size=1600, \n",
    "                 cmap=plt.cm.Blues, # The color palette to use to color the nodes.\n",
    "                 node_color=range(len(G)) #The number of shades of color to use.\n",
    "                 )\n",
    "plt.axis('off')\n",
    "plt.show()\n"
   ]
  },
  {
   "cell_type": "markdown",
   "metadata": {
    "run_control": {
     "frozen": false,
     "read_only": false
    }
   },
   "source": [
    "Notice that, in lieu of arrows, directionality is indicated by thicker endcaps.  \n",
    "\n",
    "Also note that networkx uses 'nodes' and 'edges,' thus recklessly mixing the languages of network analysis and graph theory.  Madness!  \n",
    "\n",
    "# Node positions\n",
    "\n",
    "In a network we are interested in the relationships between nodes as conveyed by links, but we don't have an interest in their positions in space.  When we visualize networks as graphs, however, we need to provide some guidance as to where each node should appear in the space so that we can clearly tell the nodes apart and follow the links.\n",
    "\n",
    "We used the circular layout above, which organizes all the nodes in a circular ring around a central point. We could also try the 'spring' layout, which positions nodes with connections to each other close together and nodes without connections to each other farther apart:"
   ]
  },
  {
   "cell_type": "code",
   "execution_count": 3,
   "metadata": {
    "run_control": {
     "frozen": false,
     "read_only": false
    }
   },
   "outputs": [
    {
     "data": {
      "image/png": "[encoded data removed]",
      "text/plain": [
       "<matplotlib.figure.Figure at 0x7f19f3afb6d8>"
      ]
     },
     "metadata": {},
     "output_type": "display_data"
    }
   ],
   "source": [
    "nx.draw_networkx(G,\n",
    "                 pos=nx.spring_layout(G), # Positions the nodes relative to each other\n",
    "                 node_size=1600, \n",
    "                 cmap=plt.cm.Blues, # The color palette to use to color the nodes.\n",
    "                 node_color=range(len(G)) #The number of shades of color to use.\n",
    "                 )\n",
    "plt.axis('off')\n",
    "plt.show()"
   ]
  },
  {
   "cell_type": "markdown",
   "metadata": {
    "run_control": {
     "frozen": false,
     "read_only": false
    }
   },
   "source": [
    "There are many other options in networkx [see the Graph Layout subsection](https://networkx.github.io/documentation/networkx-1.10/reference/drawing.html).  The one you choose depends on the nature of your network and your goals for the visualization.\n",
    "\n",
    "# Working with a graph\n",
    "\n",
    "Now that we have a graph, we can extract information about it:"
   ]
  },
  {
   "cell_type": "code",
   "execution_count": 8,
   "metadata": {
    "run_control": {
     "frozen": false,
     "read_only": false
    }
   },
   "outputs": [
    {
     "name": "stdout",
     "output_type": "stream",
     "text": [
      "This graph has 4 nodes and 6 edges.\n",
      "The \"Aunt Alice\" node has an in-degree of 1 and an out-degree of 2.\n",
      "The nodes are ['You', 'Fiancee', 'Mom', 'Aunt Alice'].\n",
      "The edges are [('You', 'Fiancee'), ('You', 'Mom'), ('Mom', 'You'), ('Mom', 'Aunt Alice'), ('Aunt Alice', 'You'), ('Aunt Alice', 'Mom')].\n",
      "The betweenness centrality scores are {'You': 0.3333333333333333, 'Fiancee': 0.0, 'Mom': 0.16666666666666666, 'Aunt Alice': 0.0}\n",
      "The node degrees are {'You': 4, 'Fiancee': 1, 'Mom': 4, 'Aunt Alice': 3}.\n"
     ]
    }
   ],
   "source": [
    "print(\"This graph has {} nodes and {} edges.\".format(G.number_of_nodes(),G.number_of_edges()))\n",
    "\n",
    "print('The \"Aunt Alice\" node has an in-degree of {} and an out-degree of {}.'.format(G.in_degree('Aunt Alice'),G.out_degree('Aunt Alice')))\n",
    "\n",
    "print(\"The nodes are {}.\".format(G.nodes()))\n",
    "\n",
    "print(\"The edges are {}.\".format(G.edges()))\n",
    "\n",
    "print(\"The betweenness centrality scores are {}\".format(nx.betweenness_centrality(G)))\n",
    "\n",
    "print('The node degrees are {}.'.format(G.degree()))\n"
   ]
  },
  {
   "cell_type": "markdown",
   "metadata": {
    "run_control": {
     "frozen": false,
     "read_only": false
    }
   },
   "source": [
    "## Hubs\n",
    "\n",
    "It is apparent that the \"You\" node is the hub of the network, with a high degree (4) and the highest betweenness centrality score (.33).  That node touches many other nodes, and is part of the shortest path between many nodes.  If we wanted to disseminate information throughout the network, it would be a good idea to start by telling \"You.\"\n",
    "\n",
    "## Paths\n",
    "\n",
    "We can compute the lengths of all the simple paths between nodes.  The return is a dictionary of pairwise node connectivity, giving the starting node and a list of all ending nodes with the length of the simple path connecting each starting/ending pair.  \n",
    "\n",
    "Similarly, we can get a list of all the shortest paths.  The return is a dictionary of dictionaries formatted such that `source : { target1=[list of nodes in path], target2=[list of nodes in path]}`."
   ]
  },
  {
   "cell_type": "code",
   "execution_count": 9,
   "metadata": {
    "run_control": {
     "frozen": false,
     "read_only": false
    }
   },
   "outputs": [
    {
     "name": "stdout",
     "output_type": "stream",
     "text": [
      "Simple paths: {'You': {'Fiancee': 1, 'Mom': 1, 'Aunt Alice': 1}, 'Fiancee': {'You': 0, 'Mom': 0, 'Aunt Alice': 0}, 'Mom': {'You': 2, 'Fiancee': 1, 'Aunt Alice': 1}, 'Aunt Alice': {'You': 2, 'Fiancee': 1, 'Mom': 2}} \n",
      "\n",
      "Shortest paths: {'You': {'You': ['You'], 'Fiancee': ['You', 'Fiancee'], 'Mom': ['You', 'Mom'], 'Aunt Alice': ['You', 'Mom', 'Aunt Alice']}, 'Fiancee': {'Fiancee': ['Fiancee']}, 'Mom': {'You': ['Mom', 'You'], 'Fiancee': ['Mom', 'You', 'Fiancee'], 'Mom': ['Mom'], 'Aunt Alice': ['Mom', 'Aunt Alice']}, 'Aunt Alice': {'You': ['Aunt Alice', 'You'], 'Fiancee': ['Aunt Alice', 'You', 'Fiancee'], 'Mom': ['Aunt Alice', 'Mom'], 'Aunt Alice': ['Aunt Alice']}}\n"
     ]
    }
   ],
   "source": [
    "print(\"Simple paths:\",nx.all_pairs_node_connectivity(G),'\\n')\n",
    "print(\"Shortest paths:\", nx.all_pairs_shortest_path(G))"
   ]
  },
  {
   "cell_type": "markdown",
   "metadata": {
    "run_control": {
     "frozen": false,
     "read_only": false
    }
   },
   "source": [
    "# Modifying graphs\n",
    "\n",
    "We can convert a directed graph to an undirected one:"
   ]
  },
  {
   "cell_type": "code",
   "execution_count": 11,
   "metadata": {
    "run_control": {
     "frozen": false,
     "read_only": false
    }
   },
   "outputs": [
    {
     "data": {
      "image/png": "[encoded data removed]",
      "text/plain": [
       "<matplotlib.figure.Figure at 0x7f19f3a830b8>"
      ]
     },
     "metadata": {},
     "output_type": "display_data"
    },
    {
     "name": "stdout",
     "output_type": "stream",
     "text": [
      "This graph has 4 nodes and 4 edges.\n",
      "The \"Aunt Alice\" node has a degree of 2.\n",
      "The nodes are ['You', 'Fiancee', 'Mom', 'Aunt Alice'].\n",
      "The edges are [('You', 'Fiancee'), ('You', 'Mom'), ('You', 'Aunt Alice'), ('Mom', 'Aunt Alice')].\n",
      "The clustering coefficients are: {'You': 0.3333333333333333, 'Fiancee': 0.0, 'Mom': 1.0, 'Aunt Alice': 1.0}\n",
      "The betweenness centrality scores are {'You': 0.6666666666666666, 'Fiancee': 0.0, 'Mom': 0.0, 'Aunt Alice': 0.0}\n",
      "The degree centrality scores are {'You': 3, 'Fiancee': 1, 'Mom': 2, 'Aunt Alice': 2}\n"
     ]
    }
   ],
   "source": [
    "# Converting to an undirected graph\n",
    "UG=G.to_undirected()\n",
    "\n",
    "#Drawing the new graph\n",
    "nx.draw_networkx(UG,\n",
    "                 pos=nx.circular_layout(UG), # Positions the nodes relative to each other\n",
    "                 node_size=1600, \n",
    "                 cmap=plt.cm.Blues, # The color palette to use to color the nodes.\n",
    "                 node_color=range(len(G)) #The number of shades of color to use.\n",
    "                 )\n",
    "plt.axis('off')\n",
    "plt.show()\n",
    "\n",
    "print(\"This graph has {} nodes and {} edges.\".format(UG.number_of_nodes(),UG.number_of_edges()))\n",
    "\n",
    "print('The \"Aunt Alice\" node has a degree of {}.'.format(UG.degree('Aunt Alice')))\n",
    "\n",
    "print(\"The nodes are {}.\".format(UG.nodes()))\n",
    "\n",
    "print(\"The edges are {}.\".format(UG.edges()))\n",
    "\n",
    "#Note that networkx does not have defined clustering algorithms for directed graphs.\n",
    "print(\"The clustering coefficients are: {}\".format(nx.clustering(UG)))\n",
    "print(\"The betweenness centrality scores are {}\".format(nx.betweenness_centrality(UG)))\n",
    "print(\"The degree centrality scores are {}\".format(nx.degree(UG)))"
   ]
  },
  {
   "cell_type": "markdown",
   "metadata": {},
   "source": [
    "The 'You' node continues to be the hub of the network.  Interestingly, when direction is removed from consideration, the 'Mom' node declines in betweenness centrality.  The 'Mom' node was important in the digraph because it was the only way to get information to the 'Aunt Alice' node.  Without directed edges, information can flow freely between 'Aunt Alice' and 'You', making the 'Mom' node less important.  This is also reflected in the high clustering score for the 'Mom' node."
   ]
  },
  {
   "cell_type": "markdown",
   "metadata": {
    "run_control": {
     "frozen": false,
     "read_only": false
    }
   },
   "source": [
    "## Modifying nodes and edges\n",
    "\n",
    "If you drop a node, all its edges are dropped as well:"
   ]
  },
  {
   "cell_type": "code",
   "execution_count": 10,
   "metadata": {
    "run_control": {
     "frozen": false,
     "read_only": false
    }
   },
   "outputs": [
    {
     "data": {
      "image/png": "[encoded data removed]",
      "text/plain": [
       "<matplotlib.figure.Figure at 0x1c0231c8a90>"
      ]
     },
     "metadata": {},
     "output_type": "display_data"
    },
    {
     "name": "stdout",
     "output_type": "stream",
     "text": [
      "[('Mom', 'You'), ('You', 'Mom'), ('You', 'Fiancee')]\n"
     ]
    }
   ],
   "source": [
    "small_G=G.copy()\n",
    "small_G.remove_node('Aunt Alice')\n",
    "nx.draw_networkx(small_G,pos=nx.circular_layout(small_G),node_size=1600, cmap=plt.cm.Blues,\n",
    "        node_color=range(len(small_G)))\n",
    "plt.axis('off')\n",
    "plt.show()\n",
    "\n",
    "print(small_G.edges())\n",
    "\n"
   ]
  },
  {
   "cell_type": "markdown",
   "metadata": {
    "run_control": {
     "frozen": false,
     "read_only": false
    }
   },
   "source": [
    "# Weights\n",
    "\n",
    "Edges can do more than convey that two nodes are linked.  They can also show the strength of the link, through weights.  Let's add some weights to our undirected graph.  We'll code weight through color, with stronger weights in darker shades."
   ]
  },
  {
   "cell_type": "code",
   "execution_count": 15,
   "metadata": {
    "run_control": {
     "frozen": false,
     "read_only": false
    }
   },
   "outputs": [
    {
     "name": "stdout",
     "output_type": "stream",
     "text": [
      "The clustering coefficients are: {'You': 0.03333333333333334, 'Fiancee': 0.0, 'Mom': 0.10000000000000002, 'Aunt Alice': 0.10000000000000002}\n",
      "The betweenness centrality scores are {'You': 1.0, 'Fiancee': 0.0, 'Mom': 0.0, 'Aunt Alice': 0.0}\n",
      "The degree centrality scores are {'You': 8.1, 'Fiancee': 7, 'Mom': 11, 'Aunt Alice': 10.1}\n"
     ]
    },
    {
     "data": {
      "image/png": "[encoded data removed]",
      "text/plain": [
       "<matplotlib.figure.Figure at 0x7f19f38b7ef0>"
      ]
     },
     "metadata": {},
     "output_type": "display_data"
    }
   ],
   "source": [
    "weighted_UG=UG.copy()\n",
    "\n",
    "#Adding weights reflecting that Aunt Alice and Mom talk more than once a day\n",
    "weighted_UG['Aunt Alice']['Mom']['weight'] = 10\n",
    "#Adding a weight reflecting that You and Mom text once a week\n",
    "weighted_UG['You']['Mom']['weight'] = 1\n",
    "#Adding a weight reflecting that Aunt Alice almost never talks to You\n",
    "weighted_UG['Aunt Alice']['You']['weight'] = .1\n",
    "#Adding a weight reflecting that You talk to your fiancee every day\n",
    "weighted_UG['You']['Fiancee']['weight'] = 7\n",
    "\n",
    "#Extracting edges and weights into two lists\n",
    "edges,weights=zip(*nx.get_edge_attributes(weighted_UG,'weight').items())\n",
    "nx.draw_networkx(weighted_UG,\n",
    "                 pos=nx.circular_layout(weighted_UG),\n",
    "                 node_size=1600,\n",
    "                 node_color=\"white\", \n",
    "                 edgelist=edges, #Ordering the edges so that the weights list works\n",
    "                 edge_color=weights, #Weights\n",
    "                 width=6.0, \n",
    "                 edge_cmap=plt.cm.Blues) #Darker colors indicate higher weights\n",
    "\n",
    "#Note that to incorporate weights into most calculations in networkx, you need to specify the name of the weight attribute.\n",
    "print(\"The clustering coefficients are: {}\".format(nx.clustering(weighted_UG, weight='weight')))\n",
    "print(\"The betweenness centrality scores are {}\".format(nx.betweenness_centrality(weighted_UG, weight='weight')))\n",
    "print(\"The degree centrality scores are {}\".format(nx.degree(weighted_UG, weight='weight')))"
   ]
  },
  {
   "cell_type": "markdown",
   "metadata": {
    "run_control": {
     "frozen": false,
     "read_only": false
    }
   },
   "source": [
    "Changing the weights changes the pattern of information exchange among the nodes.  While the 'You' node is still a hub for through traffic (due to high betweenness centrality), the strong connection between 'Mom' and 'Aunt Alice' has boosted the degree centrality of each and made 'Mom' a hub as well.\n",
    "\n",
    "# Attributes\n",
    "\n",
    "Weights are a specialized incidence of ´attributes´, characteristics that can be assigned to graphs, nodes, or edges.  This is a way for a graph to carry more information inside it.  For example, we could add a 'name' attribute to each node giving each person's first name.  These attributes won't show up when you visualize the network, but can be useful when you want to know why certain nodes are near one another."
   ]
  },
  {
   "cell_type": "code",
   "execution_count": 16,
   "metadata": {
    "collapsed": true,
    "run_control": {
     "frozen": false,
     "read_only": false
    }
   },
   "outputs": [],
   "source": [
    "G.node['You']='Fred'\n",
    "G.node['Aunt Alice']='Alice'\n",
    "G.node['Mom']='Brunhilde'\n",
    "G.node['Fiancee']='Mary'"
   ]
  },
  {
   "cell_type": "markdown",
   "metadata": {
    "run_control": {
     "frozen": false,
     "read_only": false
    }
   },
   "source": [
    "# Drill: Exploring a Graph\n",
    "\n",
    "Take [this graph file](assets/graph.gml) and discover the following:\n",
    "\n",
    "1. Number of nodes: \n",
    "2. Number of edges: \n",
    "3. Is the graph directed or undirected? \n",
    "4. Which node has the highest degree? \n",
    "5. Average clustering coefficient (if possible):\n",
    "6. The nodes with the three highest betweenness centrality scores, and their scores: \n",
    "\n",
    "Also experiment with various ways to draw the network.\n"
   ]
  },
  {
   "cell_type": "code",
   "execution_count": null,
   "metadata": {
    "collapsed": true,
    "run_control": {
     "frozen": false,
     "read_only": false
    }
   },
   "outputs": [],
   "source": []
  }
 ],
 "metadata": {
  "hide_input": false,
  "kernelspec": {
   "display_name": "Python 3",
   "language": "python",
   "name": "python3"
  },
  "language_info": {
   "codemirror_mode": {
    "name": "ipython",
    "version": 3
   },
   "file_extension": ".py",
   "mimetype": "text/x-python",
   "name": "python",
   "nbconvert_exporter": "python",
   "pygments_lexer": "ipython3",
   "version": "3.6.2"
  },
  "toc": {
   "colors": {
    "hover_highlight": "#DAA520",
    "running_highlight": "#FF0000",
    "selected_highlight": "#FFD700"
   },
   "moveMenuLeft": true,
   "nav_menu": {
    "height": "161px",
    "width": "252px"
   },
   "navigate_menu": true,
   "number_sections": true,
   "sideBar": true,
   "threshold": 4,
   "toc_cell": false,
   "toc_section_display": "block",
   "toc_window_display": false
  }
 },
 "nbformat": 4,
 "nbformat_minor": 2
}
