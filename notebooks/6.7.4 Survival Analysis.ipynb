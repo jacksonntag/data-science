{
 "cells": [
  {
   "cell_type": "code",
   "execution_count": 80,
   "metadata": {
    "collapsed": true
   },
   "outputs": [],
   "source": [
    "import numpy as np\n",
    "import pandas as pd\n",
    "import matplotlib.pyplot as plt\n",
    "import seaborn as sns\n",
    "%matplotlib inline"
   ]
  },
  {
   "cell_type": "markdown",
   "metadata": {},
   "source": [
    "We'll be doing a classic survival analysis model, using Cox PH to look at sex differences in time to death (aka. longevity) using data from the [U.S.  National Health Interview Survey](https://ihis.ipums.org/).  This data is particularly great because they have both year of birth and year of death.  Death records stop in 2009 (when the dataset was considered complete), so any people who are still living in 2009 will need to be right-censored.\n",
    "\n",
    "Some people do not have date of birth.  Those cases will be truncated.  \n",
    "\n",
    "Let's start by [loading the data](https://raw.githubusercontent.com/Thinkful-Ed/data-201-resources/master/nhis.csv), taking a look at it, and cleaning it up:"
   ]
  },
  {
   "cell_type": "code",
   "execution_count": 87,
   "metadata": {},
   "outputs": [
    {
     "name": "stdout",
     "output_type": "stream",
     "text": [
      "   Unnamed: 0  YEAR           NHISPID  AGE  SEX  SEXORIEN  MARSTAT  BIRTHYR  \\\n",
      "0     2744230  1986  1986109602890101   60    1       NaN       11      NaN   \n",
      "1     2744231  1986  1986109602890102   54    2       NaN       11      NaN   \n",
      "2     2744232  1986  1986109602890103   21    1       NaN       50      NaN   \n",
      "3     2744233  1986  1986109602890201   46    1       NaN       11      NaN   \n",
      "4     2744234  1986  1986109602890202   38    2       NaN       11      NaN   \n",
      "\n",
      "   MORTSTAT  MORTDODY  \n",
      "0       1.0    2005.0  \n",
      "1       1.0    2010.0  \n",
      "2       2.0    9999.0  \n",
      "3       2.0    9999.0  \n",
      "4       2.0    9999.0  \n",
      "(1605246, 10)\n"
     ]
    }
   ],
   "source": [
    "import pandas as pd\n",
    "import matplotlib.pyplot as plt\n",
    "\n",
    "data = pd.read_csv(\"assets/nhis.csv\")\n",
    "print(data.head())\n",
    "print(data.shape)\n"
   ]
  },
  {
   "cell_type": "code",
   "execution_count": 82,
   "metadata": {
    "scrolled": true
   },
   "outputs": [
    {
     "name": "stderr",
     "output_type": "stream",
     "text": [
      "C:\\Users\\Bethany\\Anaconda3\\lib\\site-packages\\ipykernel\\__main__.py:6: SettingWithCopyWarning: \n",
      "A value is trying to be set on a copy of a slice from a DataFrame.\n",
      "Try using .loc[row_indexer,col_indexer] = value instead\n",
      "\n",
      "See the caveats in the documentation: http://pandas.pydata.org/pandas-docs/stable/indexing.html#indexing-view-versus-copy\n",
      "C:\\Users\\Bethany\\Anaconda3\\lib\\site-packages\\ipykernel\\__main__.py:9: SettingWithCopyWarning: \n",
      "A value is trying to be set on a copy of a slice from a DataFrame.\n",
      "Try using .loc[row_indexer,col_indexer] = value instead\n",
      "\n",
      "See the caveats in the documentation: http://pandas.pydata.org/pandas-docs/stable/indexing.html#indexing-view-versus-copy\n",
      "C:\\Users\\Bethany\\Anaconda3\\lib\\site-packages\\pandas\\core\\indexing.py:477: SettingWithCopyWarning: \n",
      "A value is trying to be set on a copy of a slice from a DataFrame.\n",
      "Try using .loc[row_indexer,col_indexer] = value instead\n",
      "\n",
      "See the caveats in the documentation: http://pandas.pydata.org/pandas-docs/stable/indexing.html#indexing-view-versus-copy\n",
      "  self.obj[item] = s\n",
      "C:\\Users\\Bethany\\Anaconda3\\lib\\site-packages\\ipykernel\\__main__.py:15: SettingWithCopyWarning: \n",
      "A value is trying to be set on a copy of a slice from a DataFrame.\n",
      "Try using .loc[row_indexer,col_indexer] = value instead\n",
      "\n",
      "See the caveats in the documentation: http://pandas.pydata.org/pandas-docs/stable/indexing.html#indexing-view-versus-copy\n"
     ]
    },
    {
     "name": "stdout",
     "output_type": "stream",
     "text": [
      "        Unnamed: 0  YEAR         NHISPID  AGE  SEX  SEXORIEN  MARSTAT  \\\n",
      "829402     3928174  1997  19970003080101   33    2       NaN       11   \n",
      "829403     3928175  1997  19970003080102   36    1       NaN       11   \n",
      "829404     3928178  1997  19970003090101   42    1       NaN       11   \n",
      "829405     3928179  1997  19970003090102   52    2       NaN       11   \n",
      "829407     3928182  1997  19970003100101   41    1       NaN       11   \n",
      "\n",
      "        BIRTHYR  MORTSTAT  MORTDODY  Longevity  dead  female  \n",
      "829402   1963.0       2.0    9999.0       46.0   0.0       1  \n",
      "829403   1960.0       2.0    9999.0       49.0   0.0       0  \n",
      "829404   1954.0       1.0    1999.0       45.0   1.0       0  \n",
      "829405   1944.0       2.0    9999.0       65.0   0.0       1  \n",
      "829407   1955.0       2.0    9999.0       54.0   0.0       0  \n",
      "(754219, 13)\n"
     ]
    },
    {
     "data": {
      "image/png": "[encoded data removed]",
      "text/plain": [
       "<matplotlib.figure.Figure at 0x17d0a976400>"
      ]
     },
     "metadata": {},
     "output_type": "display_data"
    }
   ],
   "source": [
    "\n",
    "# Dropping cases where birth year is not known\n",
    "data2 =data[(data[\"BIRTHYR\"]<=2009) & (data[\"BIRTHYR\"].notnull())]\n",
    "\n",
    "# Calculating time-to-event\n",
    "data2[\"Longevity\"]= data2[\"MORTDODY\"] - data2[\"BIRTHYR\"]\n",
    "\n",
    "# Creating a 'status' variable where 1 means dead and 0 means alive as of 2009\n",
    "data2[\"dead\"]=2-data2['MORTSTAT']\n",
    "\n",
    "# For people who were alive as of 2009, calculating their longevity as their age in 2009\n",
    "data2.loc[data2['dead']==0,\"Longevity\"] = 2009 -data2.loc[data2['dead']==0,\"BIRTHYR\"] \n",
    "\n",
    "# Creating a binary variable where 1 = female and 0 = male\n",
    "data2[\"female\"] = (data2[\"SEX\"] == 2).astype(int)\n",
    "\n",
    "print(data2.head())\n",
    "print(data2.shape)\n",
    "\n",
    "g = sns.FacetGrid(data2, row=\"female\", col=\"dead\",margin_titles=True)\n",
    "g.map(plt.hist, \"Longevity\", color=\"steelblue\", lw=0)\n",
    "plt.show()"
   ]
  },
  {
   "cell_type": "markdown",
   "metadata": {},
   "source": [
    "# The first look\n",
    "\n",
    "After data cleaning, we've gone from 1605246 records to 1305561.  The vast majority of our sample was still living as of 2009.  This means most of our data will be right-censored.\n",
    "\n",
    "Now we're going to use the `statsmodels` survival analysis functions to create some models for our data.  First, we can calculate the Hazard (risk of death) for each age, starting at the youngest people in the sample (18 years old in 2009). "
   ]
  },
  {
   "cell_type": "code",
   "execution_count": 6,
   "metadata": {},
   "outputs": [
    {
     "name": "stderr",
     "output_type": "stream",
     "text": [
      "C:\\Users\\Bethany\\Anaconda3\\lib\\site-packages\\statsmodels\\duration\\survfunc.py:48: RuntimeWarning: invalid value encountered in greater\n",
      "  ii = np.flatnonzero(d > 0)\n"
     ]
    },
    {
     "data": {
      "text/html": [
       "<div>\n",
       "<table border=\"1\" class=\"dataframe\">\n",
       "  <thead>\n",
       "    <tr style=\"text-align: right;\">\n",
       "      <th></th>\n",
       "      <th>Surv prob</th>\n",
       "      <th>Surv prob SE</th>\n",
       "      <th>num at risk</th>\n",
       "      <th>num events</th>\n",
       "    </tr>\n",
       "    <tr>\n",
       "      <th>Time</th>\n",
       "      <th></th>\n",
       "      <th></th>\n",
       "      <th></th>\n",
       "      <th></th>\n",
       "    </tr>\n",
       "  </thead>\n",
       "  <tbody>\n",
       "    <tr>\n",
       "      <th>18.0</th>\n",
       "      <td>0.999998</td>\n",
       "      <td>0.000001</td>\n",
       "      <td>1305559</td>\n",
       "      <td>2.0</td>\n",
       "    </tr>\n",
       "    <tr>\n",
       "      <th>19.0</th>\n",
       "      <td>0.999989</td>\n",
       "      <td>0.000003</td>\n",
       "      <td>1304781</td>\n",
       "      <td>12.0</td>\n",
       "    </tr>\n",
       "    <tr>\n",
       "      <th>20.0</th>\n",
       "      <td>0.999965</td>\n",
       "      <td>0.000005</td>\n",
       "      <td>1303253</td>\n",
       "      <td>31.0</td>\n",
       "    </tr>\n",
       "    <tr>\n",
       "      <th>21.0</th>\n",
       "      <td>0.999930</td>\n",
       "      <td>0.000007</td>\n",
       "      <td>1300756</td>\n",
       "      <td>46.0</td>\n",
       "    </tr>\n",
       "    <tr>\n",
       "      <th>22.0</th>\n",
       "      <td>0.999899</td>\n",
       "      <td>0.000009</td>\n",
       "      <td>1297511</td>\n",
       "      <td>40.0</td>\n",
       "    </tr>\n",
       "  </tbody>\n",
       "</table>\n",
       "</div>"
      ],
      "text/plain": [
       "      Surv prob  Surv prob SE  num at risk  num events\n",
       "Time                                                  \n",
       "18.0   0.999998      0.000001      1305559         2.0\n",
       "19.0   0.999989      0.000003      1304781        12.0\n",
       "20.0   0.999965      0.000005      1303253        31.0\n",
       "21.0   0.999930      0.000007      1300756        46.0\n",
       "22.0   0.999899      0.000009      1297511        40.0"
      ]
     },
     "execution_count": 6,
     "metadata": {},
     "output_type": "execute_result"
    }
   ],
   "source": [
    "import statsmodels.api as sm\n",
    "import statsmodels.formula.api as smf\n",
    "\n",
    "sf = sm.SurvfuncRight(data2[\"Longevity\"], data2[\"dead\"])\n",
    "sf.summary().head()"
   ]
  },
  {
   "cell_type": "markdown",
   "metadata": {},
   "source": [
    "You can notice a few things in the survival table: \n",
    "* First, only 2 people in the sample died at the age of 18, with the number of deaths increasing after that.\n",
    "* Second, the standard error steadily gets larger as the sample size (the number at risk, aka. the number of people alive at that timepoint) shrinks.  \n",
    "* Finally, the 'number at risk' drops at each timepoint, but by quite a bit more than the number of deaths.  This reflects our right-censoring.  If someone turned 18 in 2009 and didn't die, they don't count toward the 'number at risk' at age 19 because they're out of the observation window, but they also aren't an event at timepoint 18 because they were still alive at that age.\n",
    "\n",
    "We can also make a very nice survival plot for the men and the women:"
   ]
  },
  {
   "cell_type": "code",
   "execution_count": 25,
   "metadata": {},
   "outputs": [
    {
     "name": "stderr",
     "output_type": "stream",
     "text": [
      "C:\\Users\\Bethany\\Anaconda3\\lib\\site-packages\\statsmodels\\duration\\survfunc.py:48: RuntimeWarning: invalid value encountered in greater\n",
      "  ii = np.flatnonzero(d > 0)\n"
     ]
    },
    {
     "data": {
      "text/plain": [
       "(0.85, 1)"
      ]
     },
     "execution_count": 25,
     "metadata": {},
     "output_type": "execute_result"
    },
    {
     "data": {
      "image/png": "[encoded data removed]",
      "text/plain": [
       "<matplotlib.figure.Figure at 0x17d0a6ecdd8>"
      ]
     },
     "metadata": {},
     "output_type": "display_data"
    }
   ],
   "source": [
    "# Code for this plot modified from the statsmodels documentation at http://www.statsmodels.org/dev/duration.html\n",
    "\n",
    "groups = data2.groupby(\"female\")\n",
    "ax = plt.axes()\n",
    "sexes = [\"male\",\"female\"]\n",
    "# Fitting a survival function for each group\n",
    "for group in groups:\n",
    "    sf = sm.SurvfuncRight(group[1][\"Longevity\"], group[1][\"dead\"])\n",
    "    sf.plot(ax)\n",
    "li = ax.get_lines()\n",
    "plt.figlegend((li[0], li[2]), sexes, \"center right\")\n",
    "ax.set_ylabel(\"Proportion alive\")\n",
    "ax.set_xlabel(\"Age\")\n",
    "ax.set_autoscaley_on(False)\n",
    "ax.set_ylim([.85,1])\n",
    "\n"
   ]
  },
  {
   "cell_type": "markdown",
   "metadata": {},
   "source": [
    "Most people are still alive, but this may be due to extreme right-censoring.  \n",
    "\n",
    "# Cox PH for gender\n",
    "\n",
    "A graph is all very well, but is the difference in longevity for men and women meaningful?  We can test using the Cox PH model."
   ]
  },
  {
   "cell_type": "code",
   "execution_count": 27,
   "metadata": {},
   "outputs": [
    {
     "name": "stdout",
     "output_type": "stream",
     "text": [
      "                       Results: PHReg\n",
      "=============================================================\n",
      "Model:                  PH Reg        Sample size:     754217\n",
      "Dependent variable:     Longevity     Num. events:     67383 \n",
      "Ties:                   Breslow                              \n",
      "-------------------------------------------------------------\n",
      "        log HR log HR SE   HR      t     P>|t|  [0.025 0.975]\n",
      "-------------------------------------------------------------\n",
      "female -0.4460    0.0078 0.6402 -57.5296 0.0000 0.6306 0.6500\n",
      "=============================================================\n",
      "Confidence intervals are for the hazard ratios\n"
     ]
    }
   ],
   "source": [
    "mod = smf.phreg(\"Longevity ~  female\", # The model\n",
    "                data2, # The data\n",
    "                status=data2['dead'].values # Whether values are right-censored\n",
    "                ) \n",
    "rslt = mod.fit()\n",
    "print(rslt.summary())"
   ]
  },
  {
   "cell_type": "markdown",
   "metadata": {
    "collapsed": true
   },
   "source": [
    "It looks like the difference is meaningful.  The convention is to report and interpret the Hazard Ratio (HR) rather than the log HR.  According to the Cox PH, at any given age, women are 64% less likely to die than men, with a 95% confidence interval of 63% to 65%.  This difference is statistically significant at $\\alpha$ of .05 (p < .0001).  Our confidence interval is tiny because our sample is so big!\n",
    "\n",
    "Looking from the plot to the model, you may notice that the data tell a slightly different story.  The survival rate discrepancy seems to shrink a bit after age 80.  This suggests that either we should include some additional features in the model to try and account for this discrepancy, or we should use a different modeling technique that doesn't assume that the effects of features are consistent across all values.\n",
    "\n",
    "We can plot the predicted survival rates from the model:"
   ]
  },
  {
   "cell_type": "code",
   "execution_count": 59,
   "metadata": {},
   "outputs": [
    {
     "name": "stderr",
     "output_type": "stream",
     "text": [
      "C:\\Users\\Bethany\\Anaconda3\\lib\\site-packages\\ipykernel\\__main__.py:2: SettingWithCopyWarning: \n",
      "A value is trying to be set on a copy of a slice from a DataFrame.\n",
      "Try using .loc[row_indexer,col_indexer] = value instead\n",
      "\n",
      "See the caveats in the documentation: http://pandas.pydata.org/pandas-docs/stable/indexing.html#indexing-view-versus-copy\n",
      "  from ipykernel import kernelapp as app\n"
     ]
    },
    {
     "name": "stdout",
     "output_type": "stream",
     "text": [
      "         YEAR         NHISPID  AGE  SEX  SEXORIEN  MARSTAT  BIRTHYR  MORTSTAT  \\\n",
      "3928174  1997  19970003080101   33    2       NaN       11   1963.0       2.0   \n",
      "3928175  1997  19970003080102   36    1       NaN       11   1960.0       2.0   \n",
      "3928178  1997  19970003090101   42    1       NaN       11   1954.0       1.0   \n",
      "3928179  1997  19970003090102   52    2       NaN       11   1944.0       2.0   \n",
      "3928182  1997  19970003100101   41    1       NaN       11   1955.0       2.0   \n",
      "\n",
      "         MORTDODY  Longevity  dead  female  predicted  \n",
      "3928174    9999.0       46.0   0.0       1   0.994803  \n",
      "3928175    9999.0       49.0   0.0       0   0.988401  \n",
      "3928178    1999.0       45.0   1.0       0   0.992777  \n",
      "3928179    9999.0       65.0   0.0       1   0.956459  \n",
      "3928182    9999.0       54.0   0.0       0   0.978739  \n"
     ]
    },
    {
     "data": {
      "image/png": "[encoded data removed]",
      "text/plain": [
       "<matplotlib.figure.Figure at 0x17d0a7127f0>"
      ]
     },
     "metadata": {},
     "output_type": "display_data"
    }
   ],
   "source": [
    "data3=data2[(data2['Longevity'].notnull()) & (data2['female'].notnull()) & (data2['dead'].notnull())]\n",
    "data3[\"predicted\"] = rslt.predict(pred_type='surv').predicted_values\n",
    "\n",
    "print(data3.head())\n",
    "\n",
    "sns.lmplot(x=\"Longevity\", y=\"predicted\", hue=\"female\", data=data3,fit_reg=False,lowess=True)\n",
    "plt.ylim(.85, 1)\n",
    "plt.show()\n"
   ]
  },
  {
   "cell_type": "markdown",
   "metadata": {},
   "source": [
    "Going back to the survival rates from the raw data, it does appear this model is missing some elements, including the shrinkage in the gender difference after 80, but also the leveling-off of the survival rate once people get to 90 years or older.  Again, adding more parameters may help.\n",
    "\n",
    "# Drill\n",
    "\n",
    "They say that people who get married live longer than people who don't.  Test that assertion by using marital status as an additional feature in your model.  You'll need to create a feature that differentiates the never married from everyone else- check [the codebook](https://nhis.ipums.org/nhis-action/variables/MARSTAT#codes_section) to get started.  Does marriage make a difference?  Calculate the survival plot and the hazard ratio for being married at any point a lifetime.\n",
    "\n"
   ]
  },
  {
   "cell_type": "code",
   "execution_count": null,
   "metadata": {
    "collapsed": true
   },
   "outputs": [],
   "source": []
  }
 ],
 "metadata": {
  "hide_input": false,
  "kernelspec": {
   "display_name": "Python 3",
   "language": "python",
   "name": "python3"
  },
  "language_info": {
   "codemirror_mode": {
    "name": "ipython",
    "version": 3
   },
   "file_extension": ".py",
   "mimetype": "text/x-python",
   "name": "python",
   "nbconvert_exporter": "python",
   "pygments_lexer": "ipython3",
   "version": "3.6.2"
  }
 },
 "nbformat": 4,
 "nbformat_minor": 2
}
