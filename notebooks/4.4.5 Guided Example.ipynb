{
 "cells": [
  {
   "cell_type": "code",
   "execution_count": 93,
   "metadata": {
    "collapsed": false,
    "deletable": true,
    "editable": true,
    "run_control": {
     "frozen": false,
     "read_only": false
    }
   },
   "outputs": [],
   "source": [
    "import numpy as np\n",
    "import pandas as pd\n",
    "import scipy\n",
    "import matplotlib.pyplot as plt\n",
    "import seaborn as sns\n",
    "import re\n",
    "from nltk.corpus import gutenberg, stopwords\n",
    "from spacy.en import English\n",
    "from collections import Counter\n",
    "%matplotlib inline"
   ]
  },
  {
   "cell_type": "markdown",
   "metadata": {},
   "source": [
    "Now that you've been introduced to some NLP tools, let's try them out in a small project.  Our goal is to use NLP to identify marriage proposals in the works of Jane Austen.  We'll be using the Gutenberg Austen corpus.  This doesn't have any annotations, so we can't build a supervised model. Instead, we will use NLP to try and extract the sense from each sentence and pull out the ones having to do with marriage proposals.\n",
    "\n",
    "Here is a sketch of the analysis plan:\n",
    "\n",
    "1.  Clean the data.\n",
    "2.  Parse using spaCy:\n",
    " * Set everything to lowercase.\n",
    " * Organize into a list of sentence-strings.\n",
    "3.  Calculate Austen-specific word vectors using word2vec\n",
    " * We could use the pre-calculated GloVe vectors, which are built-in to spaCy from a very large word2vec model using contemporary sources.  However, Austen's language is different enough that an Austen-specific vector model may work better.\n",
    "4.  Calculate weights for each word in each sentence using tfidf\n",
    "5.  Use word2vec to score how similar each word is to the phrase 'making violent love,' which in the language of the period refers to a passionate proposal of marriage\n",
    "6.  Score each sentence as the mean of the similarity scores of each word in the sentence weighted by their respective tfidf scores.\n",
    "\n",
    "Sentences with the highest scores should be those that describe marriage proposals.\n",
    "\n",
    "Let's see if it works!"
   ]
  },
  {
   "cell_type": "code",
   "execution_count": 94,
   "metadata": {
    "collapsed": false,
    "deletable": true,
    "editable": true,
    "run_control": {
     "frozen": false,
     "read_only": false
    }
   },
   "outputs": [
    {
     "name": "stdout",
     "output_type": "stream",
     "text": [
      "Original sentence: Elizabeth had succeeded , at sixteen , to all that was possible , of her mother 's rights and consequence ; and being very handsome , and very like himself , her influence had always been great , and they had gone on together most happily .\n",
      "Processed sentence: ['elizabeth', 'had', 'succeeded', ',', 'at', 'sixteen', ',', 'to', 'all', 'that', 'was', 'possible', ',', 'of', 'her', 'mother', \"'s\", 'rights', 'and', 'consequence', ';', 'and', 'being', 'very', 'handsome', ',', 'and', 'very', 'like', 'himself', ',', 'her', 'influence', 'had', 'always', 'been', 'great', ',', 'and', 'they', 'had', 'gone', 'on', 'together', 'most', 'happily', '.']\n",
      "We have 15673 sentences made up of 2005527 words.  There are 10409 unique words\n"
     ]
    }
   ],
   "source": [
    "def text_cleaner(text):\n",
    "    # Visual inspection identifies forms of punctuation spaCy does not recognize.  Better get rid of them now!\n",
    "    text=re.sub(r'-',' ',text)\n",
    "    text=re.sub(r'_','',text)\n",
    "    # Getting rid of headings in square brackets\n",
    "    text=re.sub(\"[\\[].*?[\\]]\", \"\", text)\n",
    "    # Getting rid of chapter titles\n",
    "    text=re.sub(r'Chapter \\d+','',text)\n",
    "    # Getting rid of extra whitespace\n",
    "    text=' '.join(text.split())\n",
    "    return text\n",
    "\n",
    "\n",
    "\n",
    "# Importing all the Austen in the gutenberg corpus\n",
    "austen=\"\"\n",
    "for novel in ['persuasion','emma','sense']:\n",
    "    work=gutenberg.raw('austen-'+novel+'.txt')\n",
    "    austen=austen+work\n",
    "\n",
    "#Now let's do a little cleaning and load the data into spaCy.\n",
    "austen_clean=text_cleaner(austen)\n",
    "parser = English()\n",
    "\n",
    "Austen = parser(austen_clean)\n",
    "\n",
    "#And organize into sentences.  Because word2vec, tfidf, and human eyes each prefer different formats, we store the sentences three different ways.\n",
    "# Storing each sentence as a list of processed words.\n",
    "sentences = []\n",
    "# Storing each sentence as a processed string.\n",
    "sentences_string=[]\n",
    "# Storing each sentence as a raw string.\n",
    "sentences_full=[]\n",
    "\n",
    "for span in Austen.sents:\n",
    "    # go from the start to the end of each span, returning each token in the sentence\n",
    "    sentence = [Austen[i] for i in range(span.start, span.end)]\n",
    "    #Organizing into human-readable sentence-by-sentence output\n",
    "    sentence_full = [token.text for token in sentence]\n",
    "    sentences_full.append(' '.join(sentence_full))\n",
    "    #Convert to lowercase \n",
    "    sentence = [token.lower_ for token in sentence]\n",
    "    #Creating a list of lists of strings\n",
    "    sentences.append(sentence)\n",
    "    #Creating one string that holds all content, for tfidf.\n",
    "    sentences_string.append(' '.join(sentence))\n",
    "\n",
    "#Flattening the sentences lists into one list, for easier word counting\n",
    "onelist = []\n",
    "list(map(onelist.extend, sentences))\n",
    "\n",
    "print('Original sentence:',sentences_full[20])\n",
    "print('Processed sentence:', sentences[20])\n",
    "print('We have {} sentences made up of {} words.  There are {} unique words'.format(len(sentences),len(austen_clean), len(set(onelist))))\n",
    "                        "
   ]
  },
  {
   "cell_type": "code",
   "execution_count": 148,
   "metadata": {
    "collapsed": false
   },
   "outputs": [
    {
     "name": "stdout",
     "output_type": "stream",
     "text": [
      "           count\n",
      "billiards      1\n",
      "sunny          1\n",
      "betweens       1\n",
      "maps           1\n",
      "fits           1\n"
     ]
    }
   ],
   "source": [
    "# Looking at the most common words\n",
    "\n",
    "#Counting frequency of words\n",
    "counts = Counter(onelist)\n",
    "#List of words\n",
    "words = counts.keys()\n",
    "\n",
    "#Creating a data frame with one column that holds the counts for each word\n",
    "wordcounts = pd.DataFrame(counts,index=words)\n",
    "wordcounts.drop(wordcounts.columns[1:], inplace=True)\n",
    "wordcounts=pd.DataFrame(wordcounts.iloc[0,:],index=words)\n",
    "wordcounts.columns=['count']\n",
    "\n",
    "#Sorting by count\n",
    "wordcounts=wordcounts.sort_values(by=\"count\",axis=0)\n",
    "print(wordcounts.head())"
   ]
  },
  {
   "cell_type": "code",
   "execution_count": 147,
   "metadata": {
    "collapsed": false
   },
   "outputs": [
    {
     "data": {
      "image/png": "[encoded data removed]",
      "text/plain": [
       "<matplotlib.figure.Figure at 0x7f716f383cf8>"
      ]
     },
     "metadata": {},
     "output_type": "display_data"
    }
   ],
   "source": [
    "# Showing the words that occur more than 400 times in the corpus\n",
    "\n",
    "fig_size = plt.rcParams[\"figure.figsize\"]\n",
    " \n",
    "# Set figure width to 12 and height to 9\n",
    "fig_size[0] = 12\n",
    "fig_size[1] = 25\n",
    "plt.rcParams[\"figure.figsize\"] = fig_size\n",
    "\n",
    "fig=wordcounts[wordcounts>400].dropna(axis=0).plot(kind='barh',legend=False)\n",
    "plt.show()"
   ]
  },
  {
   "cell_type": "markdown",
   "metadata": {},
   "source": [
    "# Of Stopwords and Punctuation\n",
    "\n",
    "You may be wondering why we didn't exclude stopwords and punctuation when we processed the text in spaCy.  Unlike many NLP approaches, word2vec doesn't necessarily perform better with common words stripped out. Because it operates by looking at the context of surrounding words, removing some of those words can have strong effects on the similarities perceived by word2vec.  This is also why we're using the original words rather than reducing them to lemmas- with a corpus as small as ours, word2vec needs all the information we can give it!\n",
    "\n",
    "Our other NLP method, tfidf, which does perform better when common words are removed, has a 'max_df' option to drop very common words during processing, so we'll use that then. "
   ]
  },
  {
   "cell_type": "code",
   "execution_count": 97,
   "metadata": {
    "collapsed": false,
    "deletable": true,
    "editable": true,
    "run_control": {
     "frozen": false,
     "read_only": false
    }
   },
   "outputs": [
    {
     "name": "stdout",
     "output_type": "stream",
     "text": [
      "done!\n"
     ]
    }
   ],
   "source": [
    "import gensim\n",
    "from gensim.models import word2vec\n",
    "\n",
    "model = word2vec.Word2Vec(sentences,\n",
    "                          workers=4, # Number of threads to run in parallel, if your computer does parallel processing\n",
    "                          min_count = 2, # Minimum word count threshold   \n",
    "                          window=6, # Number of words around target word to consider    \n",
    "                          sg=0, # Use CBOW because our corpus is small\n",
    "                          sample=1e-3 , # Penalize frequent words\n",
    "                          size=300, # Word vector length   \n",
    "                          hs=1 # Use hierarchical softmax\n",
    "                         )\n",
    "\n",
    "print('done!')"
   ]
  },
  {
   "cell_type": "code",
   "execution_count": 149,
   "metadata": {
    "collapsed": false,
    "deletable": true,
    "editable": true,
    "run_control": {
     "frozen": false,
     "read_only": false
    }
   },
   "outputs": [
    {
     "name": "stdout",
     "output_type": "stream",
     "text": [
      "Number of features: 1522\n"
     ]
    }
   ],
   "source": [
    "from sklearn.feature_extraction.text import TfidfVectorizer\n",
    "\n",
    "vectorizer = TfidfVectorizer(max_df=0.1, # drop words that occur in more than 10 percent of the sentences- here's where we get rid of those stopwords!\n",
    "                             min_df=20, # only use words that appear at least this many times\n",
    "                             use_idf=True,#we definitely want to use inverse document frequencies in our weighting.\n",
    "                             norm=u'l2', #Applies a correction factor so that longer sentences and shorter sentences get treated equally.\n",
    "                             smooth_idf=True #Adds 1 to all sentence frequencies, as if an extra sentence existed that used every word once.  Prevents divide-by-zero errors.\n",
    "                            )\n",
    "\n",
    "#Applying the vectorizer\n",
    "sentences_tfidf=vectorizer.fit_transform(sentences_string)\n",
    "print(\"Number of features: %d\" % sentences_tfidf.get_shape()[1])\n",
    "\n",
    "#Reshapes the vectorizer output into something easier to work with.\n",
    "sentences_tfidf_csr = sentences_tfidf.tocsr()\n",
    "\n",
    "#A list of dictionaries, one per sentence\n",
    "tfidf_bysentence = [{} for _ in range(0,sentences_tfidf_csr.shape[0])]\n",
    "#List of features\n",
    "terms = vectorizer.get_feature_names()\n",
    "#For each sentence, lists the feature words and their tf-idf scores\n",
    "for i, j in zip(*sentences_tfidf_csr.nonzero()):\n",
    "    tfidf_bysentence[i][terms[j]] = sentences_tfidf_csr[i, j]\n",
    "\n"
   ]
  },
  {
   "cell_type": "code",
   "execution_count": 145,
   "metadata": {
    "collapsed": false,
    "deletable": true,
    "editable": true,
    "run_control": {
     "frozen": false,
     "read_only": false
    }
   },
   "outputs": [],
   "source": [
    "\n",
    "#Takes a list of sentences, list of tfidf weights, and a list of words and returns a data frame where each word from the wordlist is a column and each row is a sentence.\n",
    "#For each column, the score is the similarity of that word to the words 'making violent love' weighted by the tfidf for the word.\n",
    "def bow_features(sentences,weights,word_names):\n",
    "    #Data frame of words:\n",
    "    sentencesdf=pd.DataFrame(columns=word_names)\n",
    "    #Adding sentences:\n",
    "    sentencesdf['text_sentence']=sentences\n",
    "    #Setting all the count columns to zero.\n",
    "    sentencesdf.loc[:,word_names]=0\n",
    "    #Processing each sentence :\n",
    "    for i, sentence in enumerate(sentences):\n",
    "        #Keeping only the words in the word list.\n",
    "        elements_common=[item for item in sentence if item in set(word_names) ]\n",
    "        #For each word, multiplying its weight by the similarity to 'making violent love'.\n",
    "        #Words that appear more than once in a sentence are only counted the first time.\n",
    "        for element in set(elements_common):\n",
    "            sentencesdf.loc[i,element]=weights[i][element]*model.wv.n_similarity(['making','violent','love'],[element])\n",
    "        #This counter is just to make sure the kernel didn't hang\n",
    "        if i%500==0:\n",
    "            print(i)\n",
    "    return sentencesdf\n",
    "\n"
   ]
  },
  {
   "cell_type": "code",
   "execution_count": 146,
   "metadata": {
    "collapsed": false,
    "deletable": true,
    "editable": true,
    "run_control": {
     "frozen": false,
     "read_only": false
    },
    "scrolled": false
   },
   "outputs": [
    {
     "name": "stdout",
     "output_type": "stream",
     "text": [
      "start\n",
      "0\n",
      "500\n",
      "1000\n",
      "1500\n",
      "2000\n",
      "2500\n",
      "3000\n",
      "3500\n",
      "4000\n",
      "4500\n",
      "5000\n",
      "5500\n",
      "6000\n",
      "6500\n",
      "7000\n",
      "7500\n",
      "8000\n",
      "8500\n",
      "9000\n",
      "9500\n",
      "10000\n",
      "10500\n",
      "11000\n",
      "11500\n",
      "12000\n",
      "12500\n",
      "13000\n",
      "13500\n",
      "14000\n",
      "14500\n",
      "15000\n",
      "15500\n",
      "done\n"
     ]
    }
   ],
   "source": [
    "print('start')\n",
    "features=bow_features(sentences,tfidf_bysentence,terms)\n",
    "print('done')"
   ]
  },
  {
   "cell_type": "markdown",
   "metadata": {},
   "source": [
    "# How High?\n",
    "\n",
    "Now that we have the ingredients for computing our sentence-level scores, we need to decide what our 'this is probably a proposal' cutoff point should be.  We can do that by looking at the distribution and making an educated guess.  There probably are less than 5 marriage proposals per Austen novel, and we have three novels, so if our scores are good then taking the 15 highest scores should give us the proposals."
   ]
  },
  {
   "cell_type": "code",
   "execution_count": 154,
   "metadata": {
    "collapsed": false,
    "deletable": true,
    "editable": true,
    "run_control": {
     "frozen": false,
     "read_only": false
    }
   },
   "outputs": [
    {
     "data": {
      "image/png": "[encoded data removed]",
      "text/plain": [
       "<matplotlib.figure.Figure at 0x7f716ece0e80>"
      ]
     },
     "metadata": {},
     "output_type": "display_data"
    }
   ],
   "source": [
    "fig_size = plt.rcParams[\"figure.figsize\"]\n",
    " \n",
    "# Set figure width to 12 and height to 9\n",
    "fig_size[0] = 8\n",
    "fig_size[1] = 6\n",
    "plt.rcParams[\"figure.figsize\"] = fig_size\n",
    "\n",
    "marriage_proposal_score=features[features.columns.difference(['text_sentence'])].mean(axis=1)\n",
    "marriage_proposal_score.hist()\n",
    "plt.show()"
   ]
  },
  {
   "cell_type": "code",
   "execution_count": 158,
   "metadata": {
    "collapsed": false,
    "deletable": true,
    "editable": true,
    "run_control": {
     "frozen": false,
     "read_only": false
    },
    "scrolled": false
   },
   "outputs": [
    {
     "name": "stdout",
     "output_type": "stream",
     "text": [
      "But when the second moment had passed , when she found every doubt , every solicitude removed , compared her situation with what so lately it had been , saw him honourably released from his former engagement , saw him instantly profiting by the release , to address herself and declare an affection as tender , as constant as she had ever supposed it to be , she was oppressed , she was overcome by her own felicity ; and happily disposed as is the human mind to be easily familiarized with any change for the better , it required several hours to give sedateness to her spirits , or any degree of tranquillity to her heart . \n",
      "\n",
      "She had previously , in the anticipation of their marriage , been very apprehensive of losing her friend by it ; but on being assured that he could have made no attempt of that nature , since he did not even know her to be in Bath , it immediately occurred , that something might be done in her favour by the influence of the woman he loved , and she had been hastily preparing to interest Anne 's feelings , as far as the observances due to Mr Elliot 's character would allow , when Anne 's refutation of the supposed engagement changed the face of everything ; and while it took from her the new formed hope of succeeding in the object of her first anxiety , left her at least the comfort of telling the whole story her own way . \n",
      "\n",
      "For , though shy , he did not seem reserved ; it had rather the appearance of feelings glad to burst their usual restraints ; and having talked of poetry , the richness of the present age , and gone through a brief comparison of opinion as to the first rate poets , trying to ascertain whether Marmion or The Lady of the Lake were to be preferred , and how ranked the Giaour and The Bride of Abydos ; and moreover , how the Giaour was to be pronounced , he showed himself so intimately acquainted with all the tenderest songs of the one poet , and all the impassioned descriptions of hopeless agony of the other ; he repeated , with such tremulous feeling , the various lines which imaged a broken heart , or a mind destroyed by wretchedness , and looked so entirely as if he meant to be understood , that she ventured to hope he did not always read only poetry , and to say , that she thought it was the misfortune of poetry to be seldom safely enjoyed by those who enjoyed it completely ; and that the strong feelings which alone could estimate it truly were the very feelings which ought to taste it but sparingly . \n",
      "\n",
      "The charming Augusta Hawkins , in addition to all the usual advantages of perfect beauty and merit , was in possession of an independent fortune , of so many thousands as would always be called ten ; a point of some dignity , as well as some convenience : the story told well ; he had not thrown himself away he had gained a woman of 10,000 l. or thereabouts ; and he had gained her with such delightful rapidity the first hour of introduction had been so very soon followed by distinguishing notice ; the history which he had to give Mrs. Cole of the rise and progress of the affair was so glorious the steps so quick , from the accidental rencontre , to the dinner at Mr. Green 's , and the party at Mrs. Brown 's smiles and blushes rising in importance with consciousness and agitation richly scattered the lady had been so easily impressed so sweetly disposed had in short , to use a most intelligible phrase , been so very ready to have him , that vanity and prudence were equally contented . \n",
      "\n",
      "He appeared to have a very open temper certainly a very cheerful and lively one ; she could observe nothing wrong in his notions , a great deal decidedly right ; he spoke of his uncle with warm regard , was fond of talking of him said he would be the best man in the world if he were left to himself ; and though there was no being attached to the aunt , he acknowledged her kindness with gratitude , and seemed to mean always to speak of her with respect . \n",
      "\n",
      "There she was welcomed , with the utmost delight , by her father , who had been trembling for the dangers of a solitary drive from Vicarage Lane turning a corner which he could never bear to think of and in strange hands a mere common coachman no James ; and there it seemed as if her return only were wanted to make every thing go well : for Mr. John Knightley , ashamed of his ill humour , was now all kindness and attention ; and so particularly solicitous for the comfort of her father , as to seem if not quite ready to join him in a basin of gruel perfectly sensible of its being exceedingly wholesome ; and the day was concluding in peace and comfort to all their little party , except herself . \n",
      "\n",
      "Charles Musgrove was civil and agreeable ; in sense and temper he was undoubtedly superior to his wife , but not of powers , or conversation , or grace , to make the past , as they were connected together , at all a dangerous contemplation ; though , at the same time , Anne could believe , with Lady Russell , that a more equal match might have greatly improved him ; and that a woman of real understanding might have given more consequence to his character , and more usefulness , rationality , and elegance to his habits and pursuits . \n",
      "\n",
      "Lady Middleton expressed her sense of the affair about once every day , or twice , if the subject occurred very often , by saying , \" It is very shocking , indeed ! \" and by the means of this continual though gentle vent , was able not only to see the Miss Dashwoods from the first without the smallest emotion , but very soon to see them without recollecting a word of the matter ; and having thus supported the dignity of her own sex , and spoken her decided censure of what was wrong in the other , she thought herself at liberty to attend to the interest of her own assemblies , and therefore determined ( though rather against the opinion of Sir John ) that as Mrs. Willoughby would at once be a woman of elegance and fortune , to leave her card with her as soon as she married . \n",
      "\n",
      "By birth she belonged to Highbury : and when at three years old , on losing her mother , she became the property , the charge , the consolation , the fondling of her grandmother and aunt , there had seemed every probability of her being permanently fixed there ; of her being taught only what very limited means could command , and growing up with no advantages of connexion or improvement , to be engrafted on what nature had given her in a pleasing person , good understanding , and warm hearted , well meaning relations . \n",
      "\n",
      "In fact , as I have long been convinced , though every profession is necessary and honourable in its turn , it is only the lot of those who are not obliged to follow any , who can live in a regular way , in the country , choosing their own hours , following their own pursuits , and living on their own property , without the torment of trying for more ; it is only their lot , I say , to hold the blessings of health and a good appearance to the utmost : I know no other set of men but what lose something of their personableness when they cease to be quite young . \" It seemed as if Mr Shepherd , in this anxiety to bespeak Sir Walter 's good will towards a naval officer as tenant , had been gifted with foresight ; for the very first application for the house was from an Admiral Croft , with whom he shortly afterwards fell into company in attending the quarter sessions at Taunton ; and indeed , he had received a hint of the Admiral from a London correspondent . \n",
      "\n",
      "\" I am rather of a jealous temper too by nature , and from our different situations in life , from his being so much more in the world than me , and our continual separation , I was enough inclined for suspicion , to have found out the truth in an instant , if there had been the slightest alteration in his behaviour to me when we met , or any lowness of spirits that I could not account for , or if he had talked more of one lady than another , or seemed in any respect less happy at Longstaple than he used to be . I do not mean to say that I am particularly observant or quick sighted in general , but in such a case I am sure I could not be deceived . \" \" All this , \" thought Elinor , \" is very pretty ; but it can impose upon neither of us . \" \" But what , \" said she after a short silence , \" are your views ? or have you none but that of waiting for Mrs. Ferrars 's death , which is a melancholy and shocking extremity ? \n",
      "\n",
      "The bustle and joy of such an arrival , the many to be talked to , welcomed , encouraged , and variously dispersed and disposed of , produced a noise and confusion which his nerves could not have borne under any other cause , nor have endured much longer even for this ; but the ways of Hartfield and the feelings of her father were so respected by Mrs. John Knightley , that in spite of maternal solicitude for the immediate enjoyment of her little ones , and for their having instantly all the liberty and attendance , all the eating and drinking , and sleeping and playing , which they could possibly wish for , without the smallest delay , the children were never allowed to be long a disturbance to him , either in themselves or in any restless attendance on them . \n",
      "\n",
      "I assure you , Captain Wentworth , we are very sorry he ever left you . \" There was a momentary expression in Captain Wentworth 's face at this speech , a certain glance of his bright eye , and curl of his handsome mouth , which convinced Anne , that instead of sharing in Mrs Musgrove 's kind wishes , as to her son , he had probably been at some pains to get rid of him ; but it was too transient an indulgence of self amusement to be detected by any who understood him less than herself ; in another moment he was perfectly collected and serious , and almost instantly afterwards coming up to the sofa , on which she and Mrs Musgrove were sitting , took a place by the latter , and entered into conversation with her , in a low voice , about her son , doing it with so much sympathy and natural grace , as shewed the kindest consideration for all that was real and unabsurd in the parent 's feelings . \n",
      "\n",
      "Certainly she had often , especially of late , thought his manners to herself unnecessarily gallant ; but it had passed as his way , as a mere error of judgment , of knowledge , of taste , as one proof among others that he had not always lived in the best society , that with all the gentleness of his address , true elegance was sometimes wanting ; but , till this very day , she had never , for an instant , suspected it to mean any thing but grateful respect to her as Harriet 's friend . \n",
      "\n",
      "But he had fancied her in love with him ; that evidently must have been his dependence ; and after raving a little about the seeming incongruity of gentle manners and a conceited head , Emma was obliged in common honesty to stop and admit that her own behaviour to him had been so complaisant and obliging , so full of courtesy and attention , as ( supposing her real motive unperceived ) might warrant a man of ordinary observation and delicacy , like Mr. Elton , in fancying himself a very decided favourite . \n",
      "\n",
      "Therefore , Sir Walter , what I would take leave to suggest is , that if in consequence of any rumours getting abroad of your intention ; which must be contemplated as a possible thing , because we know how difficult it is to keep the actions and designs of one part of the world from the notice and curiosity of the other ; consequence has its tax ; I , John Shepherd , might conceal any family matters that I chose , for nobody would think it worth their while to observe me ; but Sir Walter Elliot has eyes upon him which it may be very difficult to elude ; and therefore , thus much I venture upon , that it will not greatly surprise me if , with all our caution , some rumour of the truth should get abroad ; in the supposition of which , as I was going to observe , since applications will unquestionably follow , I should think any from our wealthy naval commanders particularly worth attending to ; and beg leave to add , that two hours will bring me over at any time , to save you the trouble of replying . \" \n",
      "\n"
     ]
    }
   ],
   "source": [
    "\n",
    "is_marriage=marriage_proposal_score>.00175\n",
    "indices=marriage_proposal_score.sort_values(ascending=False)[0:16].index.tolist()\n",
    "\n",
    "\n",
    "\n",
    "for index in indices:\n",
    "    print(sentences_full[index],'\\n')\n"
   ]
  },
  {
   "cell_type": "markdown",
   "metadata": {},
   "source": [
    "# The Verdict\n",
    "\n",
    "Oh dear.  Of the 15 sentences, only five refer to engagements at all, and only three are marriage proposals.  Taken in the context of the 15,673 sentences we started with, being able to find five of our suspected 15 sentences isn't bad, but from the perspective of doing something useful, this isn't great.  \n",
    "\n",
    "# The Drill\n",
    "\n",
    "Can this model be improved?  Most assuredly.  Options include adding more text to improve the word2vec similarity ratings (other Jane Austen novels are available in plain text with Project Gutenberg), changing the words used to compute similarity ('marriage proposal' doesn't work well, surprisingly, but other words may), adding a penalty for certain words that we don't want to see, or taking a totally new approach using features and unsupervised learning.\n",
    "\n",
    "Generate at least two new solutions (modifications or totally novel ones) and evaluate how well they compare to this one.  \n"
   ]
  },
  {
   "cell_type": "code",
   "execution_count": null,
   "metadata": {
    "collapsed": true
   },
   "outputs": [],
   "source": []
  }
 ],
 "metadata": {
  "hide_input": false,
  "kernelspec": {
   "display_name": "Python 3",
   "language": "python",
   "name": "python3"
  },
  "language_info": {
   "codemirror_mode": {
    "name": "ipython",
    "version": 3
   },
   "file_extension": ".py",
   "mimetype": "text/x-python",
   "name": "python",
   "nbconvert_exporter": "python",
   "pygments_lexer": "ipython3",
   "version": "3.5.2"
  },
  "toc": {
   "colors": {
    "hover_highlight": "#DAA520",
    "running_highlight": "#FF0000",
    "selected_highlight": "#FFD700"
   },
   "moveMenuLeft": true,
   "nav_menu": {
    "height": "12px",
    "width": "252px"
   },
   "navigate_menu": true,
   "number_sections": true,
   "sideBar": true,
   "threshold": 4,
   "toc_cell": false,
   "toc_section_display": "block",
   "toc_window_display": false
  }
 },
 "nbformat": 4,
 "nbformat_minor": 2
}
