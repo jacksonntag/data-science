{
 "cells": [
  {
   "cell_type": "markdown",
   "metadata": {},
   "source": [
    "In the previous checkpoint, we saw that OLS pins down the coefficients of the linear regression model by minimizing the sum of the squared error terms of the model. However, in order for estimated coefficients to be valid or the test statistics associated with them reliable, some assumptions regarding the data and the model should be met. These assumptions are known as **Gauss Markov Assumptions** or **Gauss Markov Conditions**. In this checkpoint, we'll review these assumptions using our medical costs model from the previous checkpoint.\n",
    "\n",
    "Before interpreting the estimated coefficients of a linear regression model, it's always a good idea to check whether the Gauss Markov assumptions hold. Otherwise, we need to try to fix our model. Sometimes this means applying a technique to solve for a specific problem. But usually, we need to change our model by including additional variables or excluding problematic ones. Once we have corrected our model, we can then re-estimate it using OLS and check whether or not the Gauss Markov conditions are met. As you see, this is an iterative process.\n",
    "\n",
    "**A remark on the exact number of Gauss Markov Conditions:** Don't get surprised if you see in some places that the number of Gauss Markov Conditions is four, five or six! That is because, some of the conditions can be derived from the others. For the sake of clarity, we prefered to introduce Gauss Markov Conditions in six bullets.\n",
    "\n",
    "Here's the main topics we'll cover in this checkpoint:\n",
    "\n",
    "* linearity of the model in the coefficients\n",
    "* the error term should be zero on average\n",
    "* homoscedasticity\n",
    "* low multicollinearity\n",
    "* error terms should be uncorrelated with one other\n",
    "* features shouldn't be correlated with the errors\n",
    "* normality of the errors\n",
    "\n",
    "This checkpoint ends with two assignments. First, you'll build a model using a weather dataset and check whether the Gauss Markov Assumptions hold or not. Second, you'll review your house price model from the previous checkpoint from the perspective of the Gauss Markov Assumptions."
   ]
  },
  {
   "cell_type": "markdown",
   "metadata": {},
   "source": [
    "## Our medical costs model\n",
    "\n",
    "We'll use our medical costs model from the previous checkpoint to demonstrate the Gauss Markov conditions. So, we need to import the relevant libraries and do the feature engineering steps. Then we fit our model using OLS."
   ]
  },
  {
   "cell_type": "code",
   "execution_count": 1,
   "metadata": {},
   "outputs": [
    {
     "data": {
      "text/html": [
       "<div>\n",
       "<style scoped>\n",
       "    .dataframe tbody tr th:only-of-type {\n",
       "        vertical-align: middle;\n",
       "    }\n",
       "\n",
       "    .dataframe tbody tr th {\n",
       "        vertical-align: top;\n",
       "    }\n",
       "\n",
       "    .dataframe thead th {\n",
       "        text-align: right;\n",
       "    }\n",
       "</style>\n",
       "<table border=\"1\" class=\"dataframe\">\n",
       "  <thead>\n",
       "    <tr style=\"text-align: right;\">\n",
       "      <th></th>\n",
       "      <th>age</th>\n",
       "      <th>sex</th>\n",
       "      <th>bmi</th>\n",
       "      <th>children</th>\n",
       "      <th>smoker</th>\n",
       "      <th>region</th>\n",
       "      <th>charges</th>\n",
       "    </tr>\n",
       "  </thead>\n",
       "  <tbody>\n",
       "    <tr>\n",
       "      <th>0</th>\n",
       "      <td>19</td>\n",
       "      <td>female</td>\n",
       "      <td>27.900</td>\n",
       "      <td>0</td>\n",
       "      <td>yes</td>\n",
       "      <td>southwest</td>\n",
       "      <td>16884.900</td>\n",
       "    </tr>\n",
       "    <tr>\n",
       "      <th>1</th>\n",
       "      <td>18</td>\n",
       "      <td>male</td>\n",
       "      <td>33.770</td>\n",
       "      <td>1</td>\n",
       "      <td>no</td>\n",
       "      <td>southeast</td>\n",
       "      <td>1725.550</td>\n",
       "    </tr>\n",
       "    <tr>\n",
       "      <th>2</th>\n",
       "      <td>28</td>\n",
       "      <td>male</td>\n",
       "      <td>33.000</td>\n",
       "      <td>3</td>\n",
       "      <td>no</td>\n",
       "      <td>southeast</td>\n",
       "      <td>4449.460</td>\n",
       "    </tr>\n",
       "    <tr>\n",
       "      <th>3</th>\n",
       "      <td>33</td>\n",
       "      <td>male</td>\n",
       "      <td>22.705</td>\n",
       "      <td>0</td>\n",
       "      <td>no</td>\n",
       "      <td>northwest</td>\n",
       "      <td>21984.500</td>\n",
       "    </tr>\n",
       "    <tr>\n",
       "      <th>4</th>\n",
       "      <td>32</td>\n",
       "      <td>male</td>\n",
       "      <td>28.880</td>\n",
       "      <td>0</td>\n",
       "      <td>no</td>\n",
       "      <td>northwest</td>\n",
       "      <td>3866.860</td>\n",
       "    </tr>\n",
       "    <tr>\n",
       "      <th>5</th>\n",
       "      <td>31</td>\n",
       "      <td>female</td>\n",
       "      <td>25.740</td>\n",
       "      <td>0</td>\n",
       "      <td>no</td>\n",
       "      <td>southeast</td>\n",
       "      <td>3756.620</td>\n",
       "    </tr>\n",
       "    <tr>\n",
       "      <th>6</th>\n",
       "      <td>46</td>\n",
       "      <td>female</td>\n",
       "      <td>33.440</td>\n",
       "      <td>1</td>\n",
       "      <td>no</td>\n",
       "      <td>southeast</td>\n",
       "      <td>8240.590</td>\n",
       "    </tr>\n",
       "    <tr>\n",
       "      <th>7</th>\n",
       "      <td>37</td>\n",
       "      <td>female</td>\n",
       "      <td>27.740</td>\n",
       "      <td>3</td>\n",
       "      <td>no</td>\n",
       "      <td>northwest</td>\n",
       "      <td>7281.510</td>\n",
       "    </tr>\n",
       "    <tr>\n",
       "      <th>8</th>\n",
       "      <td>37</td>\n",
       "      <td>male</td>\n",
       "      <td>29.830</td>\n",
       "      <td>2</td>\n",
       "      <td>no</td>\n",
       "      <td>northeast</td>\n",
       "      <td>6406.410</td>\n",
       "    </tr>\n",
       "    <tr>\n",
       "      <th>9</th>\n",
       "      <td>60</td>\n",
       "      <td>female</td>\n",
       "      <td>25.840</td>\n",
       "      <td>0</td>\n",
       "      <td>no</td>\n",
       "      <td>northwest</td>\n",
       "      <td>28923.100</td>\n",
       "    </tr>\n",
       "  </tbody>\n",
       "</table>\n",
       "</div>"
      ],
      "text/plain": [
       "   age     sex    bmi  children smoker     region   charges\n",
       "0   19  female 27.900         0    yes  southwest 16884.900\n",
       "1   18    male 33.770         1     no  southeast  1725.550\n",
       "2   28    male 33.000         3     no  southeast  4449.460\n",
       "3   33    male 22.705         0     no  northwest 21984.500\n",
       "4   32    male 28.880         0     no  northwest  3866.860\n",
       "5   31  female 25.740         0     no  southeast  3756.620\n",
       "6   46  female 33.440         1     no  southeast  8240.590\n",
       "7   37  female 27.740         3     no  northwest  7281.510\n",
       "8   37    male 29.830         2     no  northeast  6406.410\n",
       "9   60  female 25.840         0     no  northwest 28923.100"
      ]
     },
     "execution_count": 1,
     "metadata": {},
     "output_type": "execute_result"
    }
   ],
   "source": [
    "import matplotlib.pyplot as plt\n",
    "import numpy as np\n",
    "import pandas as pd\n",
    "from sklearn import linear_model\n",
    "import statsmodels.formula.api as smf\n",
    "from sqlalchemy import create_engine\n",
    "\n",
    "# Display preferences.\n",
    "%matplotlib inline\n",
    "pd.options.display.float_format = '{:.3f}'.format\n",
    "\n",
    "import warnings\n",
    "warnings.filterwarnings(action=\"ignore\")\n",
    "\n",
    "postgres_user = 'dsbc_student'\n",
    "postgres_pw = '7*.8G9QH21'\n",
    "postgres_host = '142.93.121.174'\n",
    "postgres_port = '5432'\n",
    "postgres_db = 'medicalcosts'\n",
    "\n",
    "engine = create_engine('postgresql://{}:{}@{}:{}/{}'.format(\n",
    "    postgres_user, postgres_pw, postgres_host, postgres_port, postgres_db))\n",
    "\n",
    "insurance_df = pd.read_sql_query('select * from medicalcosts',con=engine)\n",
    "\n",
    "# no need for an open connection, as we're only doing a single query\n",
    "engine.dispose()\n",
    "\n",
    "insurance_df.head(10)"
   ]
  },
  {
   "cell_type": "code",
   "execution_count": 2,
   "metadata": {},
   "outputs": [],
   "source": [
    "insurance_df[\"is_male\"] = pd.get_dummies(insurance_df.sex, drop_first=True)\n",
    "insurance_df[\"is_smoker\"] = pd.get_dummies(insurance_df.smoker, drop_first=True)"
   ]
  },
  {
   "cell_type": "code",
   "execution_count": 3,
   "metadata": {},
   "outputs": [
    {
     "name": "stdout",
     "output_type": "stream",
     "text": [
      "\n",
      "Coefficients: \n",
      " [  -65.37868556 23622.13598049]\n",
      "\n",
      "Intercept: \n",
      " 8466.035592512439\n"
     ]
    }
   ],
   "source": [
    "# Y is the target variable\n",
    "Y = insurance_df['charges']\n",
    "# X is the feature set which includes\n",
    "# is_male and is_smoker variables\n",
    "X = insurance_df[['is_male','is_smoker']]\n",
    "\n",
    "# We create a LinearRegression model object\n",
    "# from scikit-learn's linear_model module.\n",
    "lrm = linear_model.LinearRegression()\n",
    "\n",
    "# fit method estimates the coefficients using OLS\n",
    "lrm.fit(X, Y)\n",
    "\n",
    "# Inspect the results.\n",
    "print('\\nCoefficients: \\n', lrm.coef_)\n",
    "print('\\nIntercept: \\n', lrm.intercept_)"
   ]
  },
  {
   "cell_type": "markdown",
   "metadata": {},
   "source": [
    "## Assumption one: linearity of the model in the coefficients\n",
    "\n",
    "The first assumption that must be met is that the target variable should be a linear function of the model's __coefficients__. People often confuse this condition by incorrectly thinking that the relationship between target and features must be linear in the sense of being a straight line. But this need not be the case. The relationship could be quadratic or higher order. A model like (eq.1) below is completely valid:\n",
    "\n",
    "$$ y = \\beta_0 + \\beta_1x_1 + \\beta_2x_2^2 + \\epsilon \\qquad(eq.1)$$\n",
    "\n",
    "As we mentioned earlier, linear regression modeling is quite flexible in capturing non-linear relationships between  target and features. For example, in (eq.1), the relationship between the $y$ and $x$ is indeed quadratic. Below, we show how linear regression correctly estimates the intercept and the coefficients of the following model using synthetic data:\n",
    "\n",
    "$$ y = 1 + 2x_1 + 3x_1^2 \\qquad(eq.2)$$\n"
   ]
  },
  {
   "cell_type": "code",
   "execution_count": 4,
   "metadata": {
    "scrolled": true
   },
   "outputs": [
    {
     "name": "stdout",
     "output_type": "stream",
     "text": [
      "\n",
      "Coefficients: \n",
      " [2. 3.]\n",
      "\n",
      "Intercept: \n",
      " 0.9999999995343387\n"
     ]
    },
    {
     "data": {
      "image/png": "[encoded data removed]",
      "text/plain": [
       "<Figure size 432x288 with 1 Axes>"
      ]
     },
     "metadata": {},
     "output_type": "display_data"
    }
   ],
   "source": [
    "df = pd.DataFrame()\n",
    "\n",
    "# data from 0 to 999\n",
    "df[\"X\"] = np.arange(0,1000,1)\n",
    "# we take the square of X\n",
    "df[\"X_sq\"] = df[\"X\"]**2\n",
    "\n",
    "# this is our equation: Y = 1 + 2*X + 3*X^2\n",
    "df[\"Y\"] = 1 + 2*df[\"X\"] + 3*df[\"X_sq\"]\n",
    "\n",
    "# we fit a linear regression where target is Y\n",
    "# and features are X and X^2\n",
    "lrm_example = linear_model.LinearRegression()\n",
    "lrm_example.fit(df[[\"X\",\"X_sq\"]],df[\"Y\"])\n",
    "\n",
    "# predictions of the linear regression\n",
    "predictions = lrm_example.predict(df[[\"X\",\"X_sq\"]])\n",
    "\n",
    "# we print the estimated coefficients\n",
    "print('\\nCoefficients: \\n', lrm_example.coef_)\n",
    "print('\\nIntercept: \\n', lrm_example.intercept_)\n",
    "\n",
    "# we plot the estimated Y and X\n",
    "# the relationship should be quadratic\n",
    "plt.scatter(df[\"X\"], predictions)\n",
    "plt.xlabel(\"feature\")\n",
    "plt.ylabel(\"target\")\n",
    "plt.title('Linear regression can capture quadratic relationship')\n",
    "plt.show()"
   ]
  },
  {
   "cell_type": "markdown",
   "metadata": {},
   "source": [
    "As you can see, the linear regression model correctly estimated the true coefficients and captured the quadratic relationship between the target and the feature.\n",
    "\n",
    "In contrast, a model like the one below is an invalid one as it violates the linearity assumption:\n",
    "\n",
    "$$ y = \\beta_0 + \\beta_1x_1 + \\beta_1^2x_1 + \\epsilon \\qquad(eq.2)$$\n",
    "\n",
    "This is because, the relationship between the target $y$ and the coefficient $\\beta_1$ is not linear. \n",
    "\n",
    "In principle, this assumption is not related with the estimation but with how we specify our model. So, as long as we use models that take into account this lienarity assumption as we did in our medical costs example, then we shouldn't worry about this assumption at all."
   ]
  },
  {
   "cell_type": "markdown",
   "metadata": {},
   "source": [
    "## Assumption two: the error term should be zero on average\n",
    "\n",
    "This second assumption states that the expected value of the error term should be zero. In mathematical terms:\n",
    "\n",
    "$$\\mathbb{E}(\\epsilon) = 0$$\n",
    "\n",
    "The $\\mathbb{E}$ symbol indicates the expectation operator. We can read it as *\"the average of the error terms should be equal to zero\"*. Error term accounts for the variation in the target variable that is not explained by the features. So, ideally the error term shouldn't explain anything in the variation of the target variable but instead should be determined randomly. If the expected value of the error is different than zero, our model would become biased! For example, if $\\mathbb{E}(\\epsilon) = -1$, then it means that our model systematically overpredicts the target variable. \n",
    "\n",
    "This assumption is not held if you forget to include the constant term in your model. **This is why we said that you should always include a constant in your model**. As long as we include a constant in a model, we shouldn't be worried about this assumption as the constant will force the error terms to be zero on average.\n",
    "\n",
    "In our medical costs model, we can see this happening:"
   ]
  },
  {
   "cell_type": "code",
   "execution_count": 5,
   "metadata": {},
   "outputs": [
    {
     "name": "stdout",
     "output_type": "stream",
     "text": [
      "Mean of the errors in the medical costs model is: -2.6102090095725294e-13\n"
     ]
    }
   ],
   "source": [
    "predictions = lrm.predict(X)\n",
    "errors = Y - predictions\n",
    "\n",
    "print(\"Mean of the errors in the medical costs model is: {}\".format(np.mean(errors)))"
   ]
  },
  {
   "cell_type": "markdown",
   "metadata": {},
   "source": [
    "Since, we include the constant term in the model, the average of the model's error is effectively zero."
   ]
  },
  {
   "cell_type": "markdown",
   "metadata": {},
   "source": [
    "## Assumption three: homoscedasticity\n",
    "\n",
    "The third assumption is the requirement of **homoscedasticity**. A model is homoscedastic when the distribution of its error terms (known as \"scedasticity\") is consistent for all predicted values. In other words, the error variance shouldn't systematically change across observations. When this assumption is not met, we are dealing with  **heteroscedasticity**.\n",
    "\n",
    "For example, if our error terms aren't consistently distributed and you have more variance in the error for large outcome values than for small ones, then the confidence interval for large predicted values will be too small because it will be based on the average error variance. This leads to overconfidence in the accuracy of our model's predictions.\n",
    "\n",
    "Let's checkout whether our medical costs model suffers from the heteroscedasticity by visualizing it:"
   ]
  },
  {
   "cell_type": "code",
   "execution_count": 6,
   "metadata": {},
   "outputs": [
    {
     "data": {
      "image/png": "[encoded data removed]",
      "text/plain": [
       "<Figure size 432x288 with 1 Axes>"
      ]
     },
     "metadata": {},
     "output_type": "display_data"
    }
   ],
   "source": [
    "plt.scatter(predictions, errors)\n",
    "plt.xlabel('Predicted')\n",
    "plt.ylabel('Residual')\n",
    "plt.axhline(y=0)\n",
    "plt.title('Residual vs. Predicted')\n",
    "plt.show()"
   ]
  },
  {
   "cell_type": "markdown",
   "metadata": {},
   "source": [
    "It seems that the variances of the errors are higher for the higher values of the target variable. This implies that our error terms aren't homoscedastic. However, deriving conclusions from visuals is only an informal way of figuring out the problem. Thankfully, there are several formal statistical tests that we can use to determine whether there is heteroscedasticity in the error terms. \n",
    "\n",
    "Here we demonstrate the two of them: **Bartlett** and the **Levene** tests. The null hypothesis for both tests is that the errors are homoscedastic. Both tests can be imported from scipy's stats module."
   ]
  },
  {
   "cell_type": "code",
   "execution_count": 7,
   "metadata": {
    "scrolled": false
   },
   "outputs": [
    {
     "name": "stdout",
     "output_type": "stream",
     "text": [
      "Bartlett test statistic value is 78.9785 and p value is 6.28e-19\n",
      "Levene test statistic value is 6.87294 and p value is 0.0088\n"
     ]
    }
   ],
   "source": [
    "from scipy.stats import bartlett\n",
    "from scipy.stats import levene\n",
    "\n",
    "bart_stats = bartlett(predictions, errors)\n",
    "lev_stats = levene(predictions, errors)\n",
    "\n",
    "print(\"Bartlett test statistic value is {0:3g} and p value is {1:.3g}\".format(bart_stats[0], bart_stats[1]))\n",
    "print(\"Levene test statistic value is {0:3g} and p value is {1:.3g}\".format(lev_stats[0], lev_stats[1]))"
   ]
  },
  {
   "cell_type": "markdown",
   "metadata": {},
   "source": [
    "The p-values of both tests are lower than 0.05. So, the test results reject the null hypothesis which means our errors are heteroscedastic.\n",
    "\n",
    "There may be several causes of heteroscedasticity. Examples include, outliers in the data and omitted variables that are important in explaining the variance of the target variable. So, dealing with the outliers and including relevant variables help to fix the heteroscedasticity problem. Some fixes to heteroscedasticity include transforming the dependent variable (see [Box Cox transformation](https://www.statisticshowto.datasciencecentral.com/box-cox-transformation/) and [log transformation](https://www.ncbi.nlm.nih.gov/pmc/articles/PMC4120293/)) and adding features that target the poorly-estimated areas. \n",
    "\n",
    "If you are working on a dataset that has limited number of features and your model suffers from heteroscedasticity because of the omitted variables, then fixing this problem is not easy. However, keep in mind that even though your model suffers from the heteroscedasticity, the estimated coefficients are still valid (more formally, they are consistent but we will not discuss consistency of the estimations in this module. If you're interested, you can read it in this [Wikipedia article](https://en.wikipedia.org/wiki/Consistent_estimator)). The only problem is with the reliability of some statistical tests like t-test. Heteroscedasticity may make some estimated coefficients seem to be statistically insignificant. We'll discuss statistical significancy in the next checkpoint. "
   ]
  },
  {
   "cell_type": "markdown",
   "metadata": {},
   "source": [
    "## Assumption four: low multicollinearity\n",
    "\n",
    "Individual features should be only weakly correlated with one another, and ideally completely uncorrelated. When features are correlated, they may both explain the same pattern of variance in the outcome.  The model will attempt to find a solution, potentially by attributing half the explanatory power to one feature and half to the other.  This isn’t a problem if our only goal is prediction, because then all that matters is that the variance gets explained. However, if we want to know which features matter most when predicting an outcome, multicollinearity can cause us to underestimate the relationship between features and outcomes.\n",
    "\n",
    "If there is correlation of 1 or -1 between a variable and another or several variables, this is called **perfect multicollinearity**. It is easy to understand perfect collinearity between two variables. But, how come one variable can be correlated with several variables? This happens when that variable is a linear combination of the others. \n",
    "\n",
    "**A remark on dummy variables:** Caution is needed when working with dummy variables just because of this linear combination issue. If we create some dummy variables from a categorical variable, then we need to exclude one of them from the model. This is because anyone of those dummy variables can be represented as 1 minus the sum of the others. Hence a perfect multicollinearity occurs.\n",
    "\n",
    "To detect multicollinearity, we can simply look at the correlation matrix of the features. Multicollinearity can be fixed by PCA or by discarding some of the correlated features."
   ]
  },
  {
   "cell_type": "markdown",
   "metadata": {},
   "source": [
    "## Assumption five: error terms should be uncorrelated with one other\n",
    "\n",
    "Error terms should be uncorrelated with one other. In other words, the error term for one observation shouldn't predict the error term for another. This type of serial correlation may happen if we omit a relevant variable from the model. So, including that variable into the model can solve for this issue. \n",
    "\n",
    "To identify whether the error terms are correlated with each other or not, we can graph them. In the graph, we need to observe randomness.\n",
    "\n",
    "Let's check our medical costs model's errors:"
   ]
  },
  {
   "cell_type": "code",
   "execution_count": 8,
   "metadata": {
    "scrolled": true
   },
   "outputs": [
    {
     "data": {
      "image/png": "[encoded data removed]",
      "text/plain": [
       "<Figure size 432x288 with 1 Axes>"
      ]
     },
     "metadata": {},
     "output_type": "display_data"
    }
   ],
   "source": [
    "plt.plot(errors)\n",
    "plt.show()"
   ]
  },
  {
   "cell_type": "markdown",
   "metadata": {},
   "source": [
    "It seems that the error terms of our model are uncorrelated with each other.\n",
    "\n",
    "Another way to look at correlations between errors is to use the **autocorrelation function**. This function computes the correlation of a variable with itself. In our case, the order of the errors are the orders of the observations. We can use the `acf()` function from statsmodels as follows: "
   ]
  },
  {
   "cell_type": "code",
   "execution_count": 9,
   "metadata": {},
   "outputs": [
    {
     "data": {
      "image/png": "[encoded data removed]",
      "text/plain": [
       "<Figure size 432x288 with 1 Axes>"
      ]
     },
     "metadata": {},
     "output_type": "display_data"
    }
   ],
   "source": [
    "from statsmodels.tsa.stattools import acf\n",
    "\n",
    "acf_data = acf(errors)\n",
    "\n",
    "plt.plot(acf_data[1:])\n",
    "plt.show()"
   ]
  },
  {
   "cell_type": "markdown",
   "metadata": {},
   "source": [
    "So, the autocorrelation between the errors of our medical costs model is indeed very low (ranging between -0.06 and 0.05)."
   ]
  },
  {
   "cell_type": "markdown",
   "metadata": {},
   "source": [
    "## Assumption six: features shouldn't be correlated with the errors\n",
    "\n",
    "Last but definitely not least, and arguably the most important assumption: explanatory variables and errors should be independent. If this assumption doesn't hold, then the model's predictions will be unreliable as the estimates of the coefficients would be biased. This assumption is known as the **exogeneity**.\n",
    "\n",
    "Violations of the exogeneity assumption may have several sources. Common causes are omitted variables and simultaneous causation between independent variables and the target. If the problem stems from the simultaneous causation then we need to apply some advanced techniques to solve for the issue but this is beyond the scope of this bootcamp."
   ]
  },
  {
   "cell_type": "markdown",
   "metadata": {},
   "source": [
    "## <font color=red>A very important remark on the normality of the errors</font>\n",
    "\n",
    "So far in this checkpoint, we've covered six assumptions for OLS regression. Another important thing to consider is the normality of the error terms. Although, it is not an assumption of OLS, it still can impact our results. Specifically, normality of errors is not required to apply OLS to a linear regression model, but in order to measure the statistical significance of our estimated coefficients, error terms must be normally distributed. We'll cover t and F tests which rest upon the normality of the errors in the next checkpoint.\n",
    "\n",
    "Most often than not, non-normally distributed errors stem from the omitted variables. Hence, including the omitted relevant features to the model may help fix the issue. Sometimes, transforming the dependent variable also helps.\n",
    "\n",
    "There are various ways to check for the normality of the error terms. An informal way of doing this is visualizing the errors in a QQ plot or to look at the histogram:"
   ]
  },
  {
   "cell_type": "code",
   "execution_count": 10,
   "metadata": {
    "scrolled": true
   },
   "outputs": [
    {
     "data": {
      "image/png": "[encoded data removed]",
      "text/plain": [
       "<Figure size 864x360 with 2 Axes>"
      ]
     },
     "metadata": {},
     "output_type": "display_data"
    }
   ],
   "source": [
    "rand_nums = np.random.normal(np.mean(errors), np.std(errors), len(errors))\n",
    "\n",
    "plt.figure(figsize=(12,5))\n",
    "\n",
    "plt.subplot(1,2,1)\n",
    "plt.scatter(rand_nums, errors)\n",
    "plt.xlabel(\"the normally distributed random variable\")\n",
    "plt.ylabel(\"errors of the model\")\n",
    "plt.title(\"QQ plot\")\n",
    "\n",
    "plt.subplot(1,2,2)\n",
    "plt.hist(errors)\n",
    "plt.xlabel(\"errors\")\n",
    "plt.title(\"Histogram of the errors\")\n",
    "\n",
    "plt.tight_layout()\n",
    "plt.show()"
   ]
  },
  {
   "cell_type": "markdown",
   "metadata": {},
   "source": [
    "As can be seen in the charts above, our errors are not normally distributed. If they were, we would see a straight line going from the bottom-left to the upper-right of the QQ plot and a regular bell curve like shape in the histogram.\n",
    "\n",
    "While visualizations give us a first impression about normality, the best way to learn about this is to apply formal statistical tests. To this end, we use two of them from scipy's stats module: **Jarque Bera test** and **normal test**. The null hypothesis of the both tests state that the errors are normally distributed.\n",
    "\n",
    "Let's use these tests to find out whether our error terms are normally distributed or not:"
   ]
  },
  {
   "cell_type": "code",
   "execution_count": 11,
   "metadata": {},
   "outputs": [],
   "source": [
    "from scipy.stats import jarque_bera\n",
    "from scipy.stats import normaltest"
   ]
  },
  {
   "cell_type": "code",
   "execution_count": 12,
   "metadata": {},
   "outputs": [
    {
     "name": "stdout",
     "output_type": "stream",
     "text": [
      "Jarque-Bera test statistics is 211.89696216981974 and p value is 0.0\n",
      "Normality test statistics is 135.84198399398582 and p value is 3.178981278605571e-30\n"
     ]
    }
   ],
   "source": [
    "jb_stats = jarque_bera(errors)\n",
    "norm_stats = normaltest(errors)\n",
    "\n",
    "print(\"Jarque-Bera test statistics is {0} and p value is {1}\".format(jb_stats[0], jb_stats[1]))\n",
    "print(\"Normality test statistics is {0} and p value is {1}\".format(norm_stats[0], norm_stats[1]))"
   ]
  },
  {
   "cell_type": "markdown",
   "metadata": {},
   "source": [
    "The p-values of both tests indicate that our errors are not normally distributed."
   ]
  },
  {
   "cell_type": "markdown",
   "metadata": {},
   "source": [
    "## Assignments\n",
    "\n",
    "To close out this checkpoint, you'll do two assignments. Both require you to create Jupyter notebooks. Please submit a link to a single Gist file that contains links to the two notebooks.\n",
    "\n",
    "### 1. Predicting temperature\n",
    "\n",
    "In this exercise, you'll work with historical temperature data from the Szeged, Hungary area. The dataset you'll use is a Postgres database version of [this dataset from Kaggle](https://www.kaggle.com/budincsevity/szeged-weather/home). To complete this assignment, submit a Jupyter notebook containing your solutions to the following tasks:\n",
    "\n",
    "* First, load the dataset from the **weatherinszeged** table from Thinkful's database.\n",
    "* Build a regression model where the target variable is *temperature*. As explanatory variables, use *humidity*, *windspeed*, *windbearing* and *pressure*. Estimate the model using OLS.\n",
    "* Now, check if your model meets the Gauss-Markov Conditions above. If some of the assumptions are not met, discuss the implications of the violations for the correctness of your model.\n",
    "\n",
    "Here's the credentials you can use to connect to the database:\n",
    "\n",
    "```\n",
    "postgres_user = 'dsbc_student'\n",
    "postgres_pw = '7*.8G9QH21'\n",
    "postgres_host = '142.93.121.174'\n",
    "postgres_port = '5432'\n",
    "postgres_db = 'weatherinszeged'\n",
    "```\n",
    "\n",
    "\n",
    "### 2. House prices\n",
    "\n",
    "To complete this assignment, submit a Jupyter notebook containing your solutions to the following tasks:\n",
    "\n",
    "* Load the **houseprices** data from Thinkful's database. \n",
    "* Reimplement the model you built in the previous checkpoint. \n",
    "* Check for all of the assumptions above and discuss the implications if some of the assumptions are not met."
   ]
  }
 ],
 "metadata": {
  "kernelspec": {
   "display_name": "Python 3",
   "language": "python",
   "name": "python3"
  },
  "language_info": {
   "codemirror_mode": {
    "name": "ipython",
    "version": 3
   },
   "file_extension": ".py",
   "mimetype": "text/x-python",
   "name": "python",
   "nbconvert_exporter": "python",
   "pygments_lexer": "ipython3",
   "version": "3.6.5"
  }
 },
 "nbformat": 4,
 "nbformat_minor": 2
}
